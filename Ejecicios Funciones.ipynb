{
 "cells": [
  {
   "cell_type": "markdown",
   "id": "8cd90898-922a-4a18-940e-796036697636",
   "metadata": {},
   "source": [
    "## Ejercicios Funciones"
   ]
  },
  {
   "cell_type": "markdown",
   "id": "23448518-0ed2-4736-ba8f-772e148c2025",
   "metadata": {},
   "source": [
    "1. Escribe una función que reciba como entrada una *lista* con números y devuelva como resultado una *lista* con los cuadrados de los números contenidos en la lista de entrada."
   ]
  },
  {
   "cell_type": "code",
   "execution_count": 10,
   "id": "80b2df7a-eaa0-4a7f-8d1c-41496547ace8",
   "metadata": {},
   "outputs": [
    {
     "data": {
      "text/plain": [
       "[1, 4, 9, 16, 25, 36]"
      ]
     },
     "execution_count": 10,
     "metadata": {},
     "output_type": "execute_result"
    }
   ],
   "source": [
    "numeros = [1,2,3,4,5,6]\n",
    "def cuadrados (lista):\n",
    "    multiplicados = []\n",
    "    for numero in lista:\n",
    "       multiplicados.append(numero*numero)\n",
    "    return multiplicados\n",
    "    \n",
    "cuadrados(numeros)"
   ]
  },
  {
   "cell_type": "markdown",
   "id": "5d193f50-35cd-431d-933f-b031a786ad6b",
   "metadata": {},
   "source": [
    "2. Escribe una función que reciba números como entrada y devuelva la suma de los mismos. La función debe ser capaz de recibir una cantidad indeterminada de números. La función no debe recibir directamente ningún objeto complejo (lista, conjunto, etc.).\n",
    "\n"
   ]
  },
  {
   "cell_type": "code",
   "execution_count": 11,
   "id": "47c7febd-723d-43d9-8b6c-7f3873f67e46",
   "metadata": {},
   "outputs": [
    {
     "name": "stdout",
     "output_type": "stream",
     "text": [
      "20\n"
     ]
    }
   ],
   "source": [
    "def sumar_numeros(numeros):\n",
    "#    return sum(numeros) \n",
    "    s = 0\n",
    "    for numero in numeros:\n",
    "        s = s + numero\n",
    "    return s\n",
    "\n",
    "print (sumar_numeros([1,2,3,4,5,5]))"
   ]
  },
  {
   "cell_type": "markdown",
   "id": "9856c67c-da27-4650-8624-51053afb2657",
   "metadata": {},
   "source": [
    "3. Escribe una función que reciba un string como entrada y devuelva el string al revés. Ejemplo: si el string de entrada es 'hola', el resultado será 'aloh'."
   ]
  },
  {
   "cell_type": "code",
   "execution_count": 1,
   "id": "4b34f3c8-07f7-41c6-bcfd-689d07d64954",
   "metadata": {},
   "outputs": [
    {
     "data": {
      "text/plain": [
       "'aloh'"
      ]
     },
     "execution_count": 1,
     "metadata": {},
     "output_type": "execute_result"
    }
   ],
   "source": [
    "def reversa(palabra):\n",
    "    return palabra[::-1]\n",
    "\n",
    "reversa(\"hola\")\n"
   ]
  },
  {
   "cell_type": "markdown",
   "id": "fc54311d-3cdd-4f65-9398-3f681ac23c85",
   "metadata": {},
   "source": [
    "4. Escribe una función *lambda* que, al igual que la función desarrollada en el ejercicio anterior, invierta el string recibido como parámetro. Ejemplo: si el string de entrada es 'hola', el resultado será 'aloh'."
   ]
  },
  {
   "cell_type": "code",
   "execution_count": 18,
   "id": "4ef5c9bd-d376-43a3-9c9b-8d6e9e8bb093",
   "metadata": {},
   "outputs": [
    {
     "name": "stdout",
     "output_type": "stream",
     "text": [
      "Aloh\n"
     ]
    }
   ],
   "source": [
    "reversa2 = lambda palabra: palabra[::-1]\n",
    "print (reversa2(\"holA\"))"
   ]
  },
  {
   "cell_type": "markdown",
   "id": "368a9f7b-88ad-4b86-8c66-6084ca0bf695",
   "metadata": {},
   "source": [
    "5. Escribe una función que compruebe si un número se encuentra dentro de un rango específico."
   ]
  },
  {
   "cell_type": "code",
   "execution_count": 25,
   "id": "4cb850f7-7e96-40ea-9588-a031af94ccf0",
   "metadata": {},
   "outputs": [
    {
     "name": "stdout",
     "output_type": "stream",
     "text": [
      "se encuentra en el rango\n"
     ]
    }
   ],
   "source": [
    "def num_en_rango(x,rang):\n",
    "    if x in range(rang[0], rang[-1]):\n",
    "        print (\"se encuentra en el rango\")\n",
    "    else: \n",
    "        print(\"no se encuentra en el rango\")\n",
    "rango = (1,5)\n",
    "num_en_rango(4,rango)\n"
   ]
  },
  {
   "cell_type": "markdown",
   "id": "43145ae4-dba0-4d1a-a9ed-de4db6ed0709",
   "metadata": {},
   "source": [
    "6. Escribe una función que reciba un número entero positivo como parámetro y devuelva una lista que contenga los 5 primeros múltiplos de dicho número. Por ejemplo, si la función recibe el número 3, devolverá la lista [3, 6, 9, 12, 15]. Si la función recibe un parámetro incorrecto (por ejemplo, un múmero menor o igual a cero), mostrará un mensaje de error por pantalla y devolverá una lista vacía."
   ]
  },
  {
   "cell_type": "code",
   "execution_count": 8,
   "id": "c35de710-ae53-468a-9912-dc69b426a23e",
   "metadata": {},
   "outputs": [
    {
     "data": {
      "text/plain": [
       "[0, 4, 8, 12, 16]"
      ]
     },
     "execution_count": 8,
     "metadata": {},
     "output_type": "execute_result"
    }
   ],
   "source": [
    "def multiplos(y):\n",
    "    cinco_multiplos = []\n",
    "    for i in range(5):\n",
    "        cinco_multiplos.append(y*i)\n",
    "    return cinco_multiplos\n",
    "multiplos(4)"
   ]
  },
  {
   "cell_type": "markdown",
   "id": "26299822-f5dc-42e8-89a1-7d9ed4624b8f",
   "metadata": {},
   "source": [
    "7. Escribe una función que reciba una lista como parámetro y compruebe si la lista tiene duplicados. La función devolverá *True* si la lista tiene duplicados y *False* si no los tiene."
   ]
  },
  {
   "cell_type": "code",
   "execution_count": 2,
   "id": "33010b26-08c2-4b3c-bba0-898bb00fc36a",
   "metadata": {},
   "outputs": [
    {
     "data": {
      "text/plain": [
       "False"
      ]
     },
     "execution_count": 2,
     "metadata": {},
     "output_type": "execute_result"
    }
   ],
   "source": [
    "def duplicados(lista):\n",
    "    set1 = set(lista)\n",
    "    if len(lista) == len(set1):\n",
    "        return False\n",
    "    else:\n",
    "        return True\n",
    "\n",
    "duplicados([1,2,3,4,5])"
   ]
  },
  {
   "cell_type": "markdown",
   "id": "b3150570-de87-4e71-8742-012df3cf90f2",
   "metadata": {},
   "source": [
    "8. Escribe una función *lambda* que, al igual que la función desarrollada en el ejercicio anterior, reciba una lista como parámetro y compruebe si la lista tiene duplicados. La función devolverá *True* si la lista tiene duplicados y *False* si no los tiene."
   ]
  },
  {
   "cell_type": "code",
   "execution_count": 9,
   "id": "a02ca4a8-484e-4a65-9bdb-c05ada95025d",
   "metadata": {},
   "outputs": [
    {
     "data": {
      "text/plain": [
       "True"
      ]
     },
     "execution_count": 9,
     "metadata": {},
     "output_type": "execute_result"
    }
   ],
   "source": [
    "duplicados_lambda = lambda lista: len(lista) != len(set(lista))\n",
    "duplicados_lambda([1,2,3,4,5,4])"
   ]
  },
  {
   "cell_type": "markdown",
   "id": "45e1539c-b8cd-447a-a99b-6775867a7560",
   "metadata": {},
   "source": [
    "\n",
    "\n",
    "9. Escribe una función que compruebe si un string dado es un palíndromo. Un palíndromo es una secuencia de caracteres que se lee igual de izquierda a derecha que de derecha a izquierda. Por ejemplo, la función devolverá *True* si recibe el string \"reconocer\" y *False* si recibe el string \"python\"."
   ]
  },
  {
   "cell_type": "code",
   "execution_count": 10,
   "id": "75611d70-cf2d-47bd-9857-6b500bbcb18e",
   "metadata": {},
   "outputs": [
    {
     "data": {
      "text/plain": [
       "True"
      ]
     },
     "execution_count": 10,
     "metadata": {},
     "output_type": "execute_result"
    }
   ],
   "source": [
    "def palindromo(palabra):\n",
    "    return palabra == palabra[::-1]\n",
    "    \n",
    "palindromo(\"ono\")"
   ]
  },
  {
   "cell_type": "markdown",
   "id": "d2fe95a7-285f-4c2a-bcab-3eb0dded1bae",
   "metadata": {},
   "source": [
    "## Ejercicios FICHEROS"
   ]
  },
  {
   "cell_type": "markdown",
   "id": "924dc9fb-b8aa-486e-a41e-104a610e9e27",
   "metadata": {},
   "source": [
    "1. Escribe una función que reciba una ruta de un fichero de texto y una cadena de caracteres a buscar y determine si la cadena aparece en el fichero.\n",
    "\n"
   ]
  },
  {
   "cell_type": "code",
   "execution_count": 45,
   "id": "960689d6-67b8-4ec5-92e9-b44012e75044",
   "metadata": {},
   "outputs": [
    {
     "name": "stdout",
     "output_type": "stream",
     "text": [
      "Si esta en el fichero\n"
     ]
    }
   ],
   "source": [
    "def busca_palabras (palabra, ruta_fichero):\n",
    "    with open(ruta_fichero) as fichero2:\n",
    "        if palabra in fichero2.readlines()[0].split():\n",
    "            print (\"Si esta en el fichero\")\n",
    "        else:\n",
    "            print(\"no está en el fichero\")\n",
    "busca_palabras(\"Hola\",'res/UnaLinea.txt')\n"
   ]
  },
  {
   "cell_type": "markdown",
   "id": "2143f6fc-36a4-41fd-9056-0fba206c57fa",
   "metadata": {},
   "source": [
    "2. Escribe una función que reciba una lista, una ruta destino y un número *n*. La función debe crear un fichero en la ruta especificada. El contenido del fichero serán los primeros *n* elementos de la lista. La función debe controlar de manera apropiada los posibles valores de *n* que estén fuera de rango.\n",
    "\n"
   ]
  },
  {
   "cell_type": "markdown",
   "id": "0087c326-1d24-4b9b-80ee-5e288c890af9",
   "metadata": {},
   "source": [
    "3. Escribe una función que reciba una ruta de un fichero de texto devuelva un diccionario con la frecuencia de aparición de cada palabra. Ejemplo: un fichero que contenga la frase 'es mejor que venga que que no venga' devolverá el siguiente diccionario: {'es' : 1, 'mejor' : 1, 'que' : 3, 'venga' : 2, 'no' : 1}. Para dividir un string en palabras puedes hacer uso del método *split*."
   ]
  },
  {
   "cell_type": "code",
   "execution_count": 78,
   "id": "3af7e1ce-4728-46e1-9599-711d9ecbc613",
   "metadata": {},
   "outputs": [
    {
     "name": "stdout",
     "output_type": "stream",
     "text": [
      "['es', 'mejor', 'que', 'venga', 'que', 'que', 'no', 'venga']\n",
      "{'es': 1, 'mejor': 1, 'que': 3, 'venga': 2, 'no': 1}\n"
     ]
    }
   ],
   "source": [
    "def ocurrencia(ruta_fichero):\n",
    "     with open(ruta_fichero) as fichero:\n",
    "            dict1 = {}\n",
    "            palabras = fichero.read().split()\n",
    "            for palabra in palabras:\n",
    "                conteo = palabras.count(palabra)\n",
    "                dict1[palabra] = conteo\n",
    "            \n",
    "            print(palabras)\n",
    "            print(dict1)\n",
    "            \n",
    "            \n",
    "ocurrencia('res/Ejercicio3.txt')"
   ]
  }
 ],
 "metadata": {
  "kernelspec": {
   "display_name": "Python 3 (ipykernel)",
   "language": "python",
   "name": "python3"
  },
  "language_info": {
   "codemirror_mode": {
    "name": "ipython",
    "version": 3
   },
   "file_extension": ".py",
   "mimetype": "text/x-python",
   "name": "python",
   "nbconvert_exporter": "python",
   "pygments_lexer": "ipython3",
   "version": "3.11.0"
  }
 },
 "nbformat": 4,
 "nbformat_minor": 5
}
