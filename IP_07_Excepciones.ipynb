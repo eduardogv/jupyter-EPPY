{
 "cells": [
  {
   "cell_type": "markdown",
   "id": "frozen-emergency",
   "metadata": {},
   "source": [
    "<img src=\"img/viu_logo.png\" width=\"200\"><img src=\"img/python_logo.png\" width=\"250\"> *Mario Cervera*"
   ]
  },
  {
   "cell_type": "markdown",
   "id": "according-reputation",
   "metadata": {},
   "source": [
    "# Excepciones"
   ]
  },
  {
   "cell_type": "markdown",
   "id": "covered-generic",
   "metadata": {},
   "source": [
    "* Las excepciones son eventos que representan situaciones excepcionales.\n",
    "* Alteran el flujo de ejecución convencional.\n",
    "* Python lanza excepciones automáticamente cuando se producen errores.\n",
    "* El programador puede lanzar excepciones de manera explícita y también capturar excepciones para actuar como se crea conveniente."
   ]
  },
  {
   "cell_type": "markdown",
   "id": "intermediate-appeal",
   "metadata": {},
   "source": [
    "#### Try/except\n",
    "\n",
    "* Permite capturar excepciones y actuar en consecuencia.\n",
    "\n",
    "Ejemplo: error de acceso fuera de rango."
   ]
  },
  {
   "cell_type": "code",
   "execution_count": 1,
   "id": "controversial-provincial",
   "metadata": {},
   "outputs": [
    {
     "ename": "IndexError",
     "evalue": "list index out of range",
     "output_type": "error",
     "traceback": [
      "\u001b[1;31m---------------------------------------------------------------------------\u001b[0m",
      "\u001b[1;31mIndexError\u001b[0m                                Traceback (most recent call last)",
      "Cell \u001b[1;32mIn [1], line 2\u001b[0m\n\u001b[0;32m      1\u001b[0m lista \u001b[38;5;241m=\u001b[39m [\u001b[38;5;241m6\u001b[39m, \u001b[38;5;241m1\u001b[39m, \u001b[38;5;241m0\u001b[39m, \u001b[38;5;241m5\u001b[39m]\n\u001b[1;32m----> 2\u001b[0m \u001b[43mlista\u001b[49m\u001b[43m[\u001b[49m\u001b[38;5;241;43m4\u001b[39;49m\u001b[43m]\u001b[49m\n\u001b[0;32m      3\u001b[0m \u001b[38;5;28mprint\u001b[39m(\u001b[38;5;124m'\u001b[39m\u001b[38;5;124mCódigo tras el error\u001b[39m\u001b[38;5;124m'\u001b[39m)\n",
      "\u001b[1;31mIndexError\u001b[0m: list index out of range"
     ]
    }
   ],
   "source": [
    "lista = [6, 1, 0, 5]\n",
    "lista[4]\n",
    "print('Código tras el error')"
   ]
  },
  {
   "cell_type": "code",
   "execution_count": 2,
   "id": "forward-developer",
   "metadata": {},
   "outputs": [
    {
     "name": "stdout",
     "output_type": "stream",
     "text": [
      "He capturado la excepción de tipo IndexError\n",
      "Código tras el bloque try\n"
     ]
    }
   ],
   "source": [
    "lista = [6, 1, 0, 5]\n",
    "try:\n",
    "    lista[4]\n",
    "except IndexError:\n",
    "    print('He capturado la excepción de tipo IndexError')\n",
    "    \n",
    "print('Código tras el bloque try')"
   ]
  },
  {
   "cell_type": "markdown",
   "id": "cleared-array",
   "metadata": {},
   "source": [
    "* Normalmente, al capturar excepciones, querremos ser lo más específicos posible, pero también se puedes usar una sentencia *try-except* que capture cualquier error."
   ]
  },
  {
   "cell_type": "code",
   "execution_count": 3,
   "id": "banned-application",
   "metadata": {},
   "outputs": [
    {
     "name": "stdout",
     "output_type": "stream",
     "text": [
      "He capturado la división por cero\n"
     ]
    }
   ],
   "source": [
    "try:\n",
    "    4/0\n",
    "except:\n",
    "    print('He capturado la división por cero')"
   ]
  },
  {
   "cell_type": "markdown",
   "id": "packed-authorization",
   "metadata": {},
   "source": [
    "#### Try/finally\n",
    "\n",
    "* A través de *finally* podemos especificar código que queremos que se ejecute siempre (independientemente de si se produce la excepción o no).\n",
    "* Se suele usar para liberar recursos."
   ]
  },
  {
   "cell_type": "code",
   "execution_count": 15,
   "id": "complex-sheep",
   "metadata": {},
   "outputs": [
    {
     "name": "stdout",
     "output_type": "stream",
     "text": [
      "codigo del excpet\n",
      "Código tras el bloque try\n"
     ]
    }
   ],
   "source": [
    "lista = [6, 1, 0, 5]\n",
    "\n",
    "try:\n",
    "    lista[2]\n",
    "    lista[4]\n",
    "finally:\n",
    "    print('Bloque finally')\n",
    "    print(\"codiog que se ejecuta si o si\")\n",
    "\n",
    "print('Código tras el bloque try')"
   ]
  },
  {
   "cell_type": "markdown",
   "id": "expected-potter",
   "metadata": {},
   "source": [
    "#### raise\n",
    "\n",
    "* La sentencia *raise* nos permite lanzar excepciones de manera explícita."
   ]
  },
  {
   "cell_type": "code",
   "execution_count": 16,
   "id": "major-suite",
   "metadata": {},
   "outputs": [
    {
     "ename": "IndexError",
     "evalue": "Índice fuera de rango",
     "output_type": "error",
     "traceback": [
      "\u001b[1;31m---------------------------------------------------------------------------\u001b[0m",
      "\u001b[1;31mIndexError\u001b[0m                                Traceback (most recent call last)",
      "Cell \u001b[1;32mIn [16], line 7\u001b[0m\n\u001b[0;32m      4\u001b[0m \u001b[38;5;66;03m#try:\u001b[39;00m\n\u001b[0;32m      6\u001b[0m \u001b[38;5;28;01mif\u001b[39;00m indice \u001b[38;5;241m>\u001b[39m\u001b[38;5;241m=\u001b[39m \u001b[38;5;28mlen\u001b[39m(lista):\n\u001b[1;32m----> 7\u001b[0m     \u001b[38;5;28;01mraise\u001b[39;00m \u001b[38;5;167;01mIndexError\u001b[39;00m(\u001b[38;5;124m'\u001b[39m\u001b[38;5;124mÍndice fuera de rango\u001b[39m\u001b[38;5;124m'\u001b[39m)\n\u001b[0;32m      9\u001b[0m \u001b[38;5;66;03m#except IndexError:\u001b[39;00m\n\u001b[0;32m     10\u001b[0m \u001b[38;5;66;03m#    print('Excepción de tipo IndexError capturada')\u001b[39;00m\n",
      "\u001b[1;31mIndexError\u001b[0m: Índice fuera de rango"
     ]
    }
   ],
   "source": [
    "lista = [6, 1, 0, 5]\n",
    "indice = 4\n",
    "\n",
    "#try:\n",
    "\n",
    "if indice >= len(lista):\n",
    "    raise IndexError('Índice fuera de rango')\n",
    "\n",
    "#except IndexError:\n",
    "#    print('Excepción de tipo IndexError capturada')"
   ]
  },
  {
   "cell_type": "markdown",
   "id": "congressional-webmaster",
   "metadata": {},
   "source": [
    "## Ejercicios"
   ]
  },
  {
   "cell_type": "markdown",
   "id": "curious-filename",
   "metadata": {},
   "source": [
    "1. Escribir un programa que pida un valor numérico X al usuario. Para ello podéis hacer uso de la función predefinida 'input'. El programa deberá mostrar por pantalla el resultado de la división 10/X. En caso de que el usuario introduzca valores no apropiados, el programa deberá gestionar correctamente las excepciones, por ejemplo, mostrando mensajes informativos por pantalla.\n",
    "\n",
    "2. Escribir un programa que cree un *diccionario* cualquiera. Posteriormente, el programa pedirá al usuario (a través de la función predefinida 'input') que introduzca una clave del diccionario. Si la clave introducida es correcta (es decir, existe en el diccionario), el programa mostrará por pantalla el valor asociado a dicha clave. En caso de que la clave no exista, el programa gestionará de manera apropiada el error, por ejemplo, mostrando un mensaje informativo al usuario."
   ]
  },
  {
   "cell_type": "code",
   "execution_count": 5,
   "id": "46d53433-7c7a-4416-a4ca-a5445e8e3c78",
   "metadata": {},
   "outputs": [
    {
     "name": "stdin",
     "output_type": "stream",
     "text": [
      "<class 'int'> 4234\n"
     ]
    },
    {
     "name": "stdout",
     "output_type": "stream",
     "text": [
      "0.0023618327822390174\n"
     ]
    }
   ],
   "source": [
    "#Solucion 1\n",
    "numero = int\n",
    "x = int(input(numero))\n",
    "try:\n",
    "    print (10/x)\n",
    "except ZeroDivisionError:\n",
    "    print(\"Has dividido por cero, burro\")"
   ]
  },
  {
   "cell_type": "code",
   "execution_count": 21,
   "id": "d1f22b79-5c67-41ea-b763-c50f1ef45de2",
   "metadata": {},
   "outputs": [
    {
     "name": "stdin",
     "output_type": "stream",
     "text": [
      "<class 'str'> 1\n"
     ]
    },
    {
     "name": "stdout",
     "output_type": "stream",
     "text": [
      "Este indice no existe, burro\n"
     ]
    }
   ],
   "source": [
    "#Solucion 2\n",
    "diccionario = {'a': 1, 'b': 2, 'c': 3}\n",
    "clave = str\n",
    "x = input(clave)\n",
    "try:\n",
    "    print(diccionario[x])\n",
    "except KeyError:\n",
    "    print (\"Este indice no existe, burro\")"
   ]
  },
  {
   "cell_type": "markdown",
   "id": "neutral-lodge",
   "metadata": {},
   "source": [
    "## Soluciones"
   ]
  },
  {
   "cell_type": "code",
   "execution_count": 22,
   "id": "corporate-scout",
   "metadata": {},
   "outputs": [
    {
     "name": "stdin",
     "output_type": "stream",
     "text": [
      " 4\n"
     ]
    },
    {
     "name": "stdout",
     "output_type": "stream",
     "text": [
      "El resultado de 10/4 es: 2.5\n"
     ]
    }
   ],
   "source": [
    "# Ejercicio 1\n",
    "\n",
    "try:\n",
    "    x = input()\n",
    "    numero = float(x)\n",
    "    print(f\"El resultado de 10/{x} es: {10/numero}\")\n",
    "except ValueError:\n",
    "    print(f\"El valor '{x}' no es numérico\")\n",
    "except ZeroDivisionError:\n",
    "    print(\"Error: división por cero\")"
   ]
  },
  {
   "cell_type": "code",
   "execution_count": null,
   "id": "invisible-shore",
   "metadata": {},
   "outputs": [],
   "source": [
    "# Ejercicio 2\n",
    "\n",
    "notas = {'Programación': 9.5, \"Inteligencia artificial\": 7.6, \"Redes\": 5.2, \"Sistemas operativos\": 6.4}\n",
    "\n",
    "try:\n",
    "    asignatura = input(\"Introduce una asignatura\")\n",
    "    print(f\"La nota de la asignatura '{asignatura}' es: {notas[asignatura]}\")\n",
    "except KeyError:\n",
    "    print(f\"Asignatura incorrecta: {asignatura}\")"
   ]
  }
 ],
 "metadata": {
  "kernelspec": {
   "display_name": "Python 3 (ipykernel)",
   "language": "python",
   "name": "python3"
  },
  "language_info": {
   "codemirror_mode": {
    "name": "ipython",
    "version": 3
   },
   "file_extension": ".py",
   "mimetype": "text/x-python",
   "name": "python",
   "nbconvert_exporter": "python",
   "pygments_lexer": "ipython3",
   "version": "3.11.0"
  }
 },
 "nbformat": 4,
 "nbformat_minor": 5
}
