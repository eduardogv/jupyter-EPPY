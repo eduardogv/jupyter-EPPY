{
 "cells": [
  {
   "cell_type": "markdown",
   "id": "final-comparison",
   "metadata": {},
   "source": [
    "<img src=\"img/viu_logo.png\" width=\"200\"><img src=\"img/python_logo.png\" width=\"250\"> *Mario Cervera*"
   ]
  },
  {
   "cell_type": "markdown",
   "id": "differential-valley",
   "metadata": {},
   "source": [
    "# Introducción a la Programación - Actividad Final"
   ]
  },
  {
   "cell_type": "markdown",
   "id": "handled-spanking",
   "metadata": {
    "tags": []
   },
   "source": [
    "El fichero *grafo.txt* define un grafo dirigido ponderado. Cada fila del fichero contiene tres items separados entre sí por un espacio. Estos tres items definen una arista y su peso. Por ejemplo, la fila \"a b 2\" define una arista *(a, b)*, cuyo peso es 2, y donde *a* y *b* son nodos del grafo. La arista tiene *a* como origen y *b* como destino."
   ]
  },
  {
   "cell_type": "markdown",
   "id": "sufficient-female",
   "metadata": {},
   "source": [
    "1.1. Crea una clase *Arista* que represente una arista del grafo, con su nodo origen, su nodo destino y su peso. La clase debe sobreescribir el operador que permite que las instancias de la clase puedan representarse apropiadamente en formato *string*. Añade documentación a la clase."
   ]
  },
  {
   "cell_type": "code",
   "execution_count": 2,
   "id": "9df0618d-7a11-4a99-a477-6dc7ddb351be",
   "metadata": {},
   "outputs": [],
   "source": [
    "class Arista():\n",
    "        \"\"\"Esta clase representa una arista de un grafo, con su nodo origen, su nodo destino y su peso\"\"\"\n",
    "        def __init__(self,nodo_origen,nodo_destino,peso):\n",
    "            self.nodo_origen = nodo_origen\n",
    "            self.nodo_destino = nodo_destino\n",
    "            self.peso = peso\n",
    "\n",
    "        def __str__(self):\n",
    "            return f\"{self.nodo_origen} --> {self.nodo_destino}:{self.peso}\""
   ]
  },
  {
   "cell_type": "markdown",
   "id": "clear-infection",
   "metadata": {},
   "source": [
    "1.2. Crea una clase abstracta *Grafo* que represente un grafo, pero sin proporcionar detalles sobre su representación en memoria. Esta clase abstracta contendrá un constructor que recibirá un parámetro: la ruta a un fichero de texto, de donde la clase *Grafo* podrá extraer la definición del grafo. La clase, al ser abstracta, no puede crear el grafo, pero sí puede procesar el fichero y usar un método abstracto *anyadir_arista*. Añadir también a la clase *Grafo* otro método abstracto *contiene_arista* que permita comprobar la presencia de una arista en el grafo. Ambos métodos recibirán una *Arista* como parámetro. Añade documentación a la clase."
   ]
  },
  {
   "cell_type": "code",
   "execution_count": 3,
   "id": "5ff02240-e9e1-4623-aca6-fd8d80bd82f3",
   "metadata": {},
   "outputs": [],
   "source": [
    "from abc import ABC, abstractmethod\n",
    "\n",
    "class Grafo(ABC):\n",
    "    \"\"\"Esta clase permite ingresar la ruta de un fichero y procesarla\"\"\"\n",
    "    \n",
    "    def __init__ (self,ruta_fichero):\n",
    "        self.ruta_fichero=ruta_fichero\n",
    "        with open (self.ruta_fichero) as fichero:\n",
    "            for linea in fichero:\n",
    "                nodo_origen,nodo_destino,peso=linea.split()\n",
    "                arista=Arista(nodo_origen,nodo_destino,peso) #(a, b, 1)\n",
    "                self.anyadir_arista(arista)\n",
    "                    \n",
    "    @abstractmethod    \n",
    "    def anyadir_arista(self, arista): \n",
    "        pass\n",
    "    \n",
    "    @abstractmethod\n",
    "    def contiene_arista(self, arista):\n",
    "        pass   "
   ]
  },
  {
   "cell_type": "markdown",
   "id": "native-width",
   "metadata": {
    "tags": []
   },
   "source": [
    "1.3. Crea una subclase *GrafoListasAdyacencia*. Esta clase implementará el método *anyadir_arista* de manera que se creen las listas de adyacencia de manera apropiada. La clase deberá también implementar el método *contiene_arista*. Añade documentación a la clase.\n",
    "\n",
    "Nota: observad que en las listas de adyacencia no debéis almacenar objetos de tipo *Arista*, ya que esto crearía duplicación innecesaria de información en memoria."
   ]
  },
  {
   "cell_type": "code",
   "execution_count": 10,
   "id": "996c5a88-563b-47c2-9e2f-0d6fec53e41e",
   "metadata": {},
   "outputs": [
    {
     "name": "stdout",
     "output_type": "stream",
     "text": [
      "{'a': [('b', '1'), ('c', '3')], 'b': [('e', '3')], 'c': [('a', '2'), ('d', '1')], 'd': [('a', '1'), ('e', '2'), ('f', '1')], 'e': [('c', '3'), ('f', '4')], 'f': [('g', '1')], 'g': [('b', '2')]}\n"
     ]
    }
   ],
   "source": [
    "class GrafoListasAdyacencia(Grafo):\n",
    "    def __init__(self,ruta):\n",
    "        self.Listasadyacencia = {}\n",
    "        super().__init__(ruta)\n",
    "        \n",
    "    def anyadir_arista(self,arista:Arista):\n",
    "        '''Almacena una arista en un grafo de tipo lista de adyacencia'''      \n",
    "        if arista.nodo_origen not in self.Listasadyacencia:\n",
    "            self.Listasadyacencia[arista.nodo_origen]=[(arista.nodo_destino,arista.peso)]\n",
    "        \n",
    "        else:\n",
    "            self.Listasadyacencia[arista.nodo_origen].append((arista.nodo_destino,arista.peso))\n",
    "            \n",
    "        return self.Listasadyacencia\n",
    "                                \n",
    "    def contiene_arista(self,arista:Arista):\n",
    "        '''Consulta pa existencia de una arista en un grafo de tipo lista de adyacencia''' \n",
    "        if (arista.nodo_destino, arista.peso) in self.Listasadyacencia[arista.nodo_origen]:\n",
    "            return True\n",
    "        return False\n",
    "    \n",
    "    def __str__(self):\n",
    "        return str(self.Listasadyacencia)\n",
    "    \n",
    "print(GrafoListasAdyacencia('res/grafo.txt'))"
   ]
  },
  {
   "cell_type": "markdown",
   "id": "arabic-casino",
   "metadata": {},
   "source": [
    "1.4. Crea una subclase *GrafoMatrizAdyacencia*. Esta clase implementará el método *anyadir_arista* de manera que se cree la matriz de adyacencia de manera apropiada. Una matriz de adyacencia es una matriz cuadrada que indica, para cada par de nodos, si son adyacentes o no. Más formalmente, dado un grafo con nodos *U = { u<sub>1</sub>, u<sub>2</sub>, ..., u<sub>n</sub> }*, la matriz de adyacencia es una matriz *n x n* donde un elemento *A<sub>ij</sub>* de la matriz es *X* cuando el grafo posee una arista del nodo *u<sub>i</sub>* al nodo *u<sub>j</sub>* con peso *X*, y 0 cuando no existe tal arista o tiene peso 0.\n",
    "\n",
    "Nota: para este ejercicio, podéis asumir que se sabe de antemano (es decir, antes de procesar el fichero) que el grafo tiene 7 nodos: 'a', 'b', 'c', 'd', 'e', 'f' y 'g'."
   ]
  },
  {
   "cell_type": "code",
   "execution_count": 11,
   "id": "35311dd5-3b36-4b4c-91ee-011318de0a7b",
   "metadata": {},
   "outputs": [
    {
     "name": "stdout",
     "output_type": "stream",
     "text": [
      "{'a': [('b', '1'), ('c', '3')], 'b': [('e', '3')], 'c': [('a', '2'), ('d', '1')], 'd': [('a', '1'), ('e', '2'), ('f', '1')], 'e': [('c', '3'), ('f', '4')], 'f': [('g', '1')], 'g': [('b', '2')]}\n"
     ]
    }
   ],
   "source": [
    "class GrafoMatrizAdyacencia(Grafo):\n",
    "    def __init__(self,ruta,nodos):\n",
    "        self.nodos = nodos\n",
    "        self.Matriz = [[0 for j in range(len(self.nodos))] for i in range(len(self.nodos))]\n",
    "        super().__init__(ruta)\n",
    "        \n",
    "    def anyadir_arista(self,arista:Arista):\n",
    "        '''Almacena una arista en un grafo de tipo matriz de adyacencia''' \n",
    "        if arista.nodo_origen in self.nodos and arista.nodo_destino in self.nodos:\n",
    "            for i in range(len(self.Matriz)):\n",
    "                for j in range(len(self.Matriz[i])):\n",
    "                    if i==self.nodos.index(arista.nodo_origen) and j==self.nodos.index(arista.nodo_destino):\n",
    "                        self.Matriz[i][j]=arista.peso\n",
    "        \n",
    "        self.Matrizadyacencia=dict(zip(self.nodos,self.Matriz))                      \n",
    "        \n",
    "        return self.Matrizadyacencia      \n",
    "            \n",
    "    def contiene_arista(self,arista:Arista):\n",
    "        '''Consulta pa existencia de una arista en un grafo de tipo lista de adyacencia''' \n",
    "        if self.Matrizadyacencia[arista.nodo_origen][self.nodos.index(arista.nodo_destino)]==arista.peso:\n",
    "            return True\n",
    "        return False\n",
    "        \n",
    "    def __str__(self):\n",
    "        return str(self.Matrizadyacencia)\n",
    "    \n",
    "print(GrafoListasAdyacencia('res/grafo.txt'))"
   ]
  },
  {
   "cell_type": "markdown",
   "id": "strange-blink",
   "metadata": {},
   "source": [
    "1.5. Crea una función que, dado un grafo y una arista, compruebe si la arista existe en el grafo y muestre un mensaje apropiado por pantalla en cualquier caso. Utiliza esta función para comprobar la existencia/ausencia de varias aristas en una instancia de un grafo basado en listas de adyacencia y también en un grafo basado en matriz de adyacencia. El resultado debería ser el mismo en ambos casos, ya que la existencia o ausencia de una arista en un grafo no depende de cómo el grafo está representado internamente."
   ]
  },
  {
   "cell_type": "code",
   "execution_count": 6,
   "id": "68f18e93-673f-491c-b06f-494d82943a1f",
   "metadata": {},
   "outputs": [],
   "source": [
    "def ContieneArista(grafo,arista):\n",
    "    if grafo.contiene_arista(arista) == True:\n",
    "        print (f'La arista {arista} si existe dentro del Grafo')\n",
    "    else:\n",
    "        print (f'La arista {arista} no existe dentro del Grafo')"
   ]
  }
 ],
 "metadata": {
  "kernelspec": {
   "display_name": "Python 3 (ipykernel)",
   "language": "python",
   "name": "python3"
  },
  "language_info": {
   "codemirror_mode": {
    "name": "ipython",
    "version": 3
   },
   "file_extension": ".py",
   "mimetype": "text/x-python",
   "name": "python",
   "nbconvert_exporter": "python",
   "pygments_lexer": "ipython3",
   "version": "3.7.3"
  }
 },
 "nbformat": 4,
 "nbformat_minor": 5
}
