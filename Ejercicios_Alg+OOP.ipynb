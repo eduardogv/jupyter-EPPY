{
 "cells": [
  {
   "cell_type": "markdown",
   "id": "d7cc9edf-632a-479a-aed2-0b9d5e45c250",
   "metadata": {},
   "source": [
    "## Ejercicios Algoritmos"
   ]
  },
  {
   "cell_type": "markdown",
   "id": "3fd14e05-52b4-49b5-b554-fe9fc336b20a",
   "metadata": {},
   "source": [
    "1. Escribe una función que reciba como entrada una lista de palabras que puede contener duplicados y devuelva como resultado una lista que contenga las mismas palabras pero sin duplicados. En este ejercicio, deberás utilizar la estructura de datos auxiliar más apropiada para resolver el problema; es decir, aquella que lleve a un algoritmo eficiente. No se permite hacer un casting para transformar la lista de entrada a un objeto de tipo set o dictionary."
   ]
  },
  {
   "cell_type": "code",
   "execution_count": 111,
   "id": "75c2df49-f693-4146-a0fb-115de0471b7a",
   "metadata": {},
   "outputs": [],
   "source": [
    "duplicados = ['a', 'b', 'c', 'd', 'a', 'b']\n",
    "#simplemente hacer un for que itere por la lista y appendee a una lista intermedia "
   ]
  },
  {
   "cell_type": "markdown",
   "id": "b8a27937-c473-4cc0-ab98-9ab7a065123f",
   "metadata": {},
   "source": [
    "2. Escribe una función que, dada una lista desordenada de números, utilice una cola de prioridad para devolver la lista de números ordenada."
   ]
  },
  {
   "cell_type": "code",
   "execution_count": 186,
   "id": "b0462149-4e3c-4f93-b0eb-9d26a656a36b",
   "metadata": {},
   "outputs": [
    {
     "name": "stdout",
     "output_type": "stream",
     "text": [
      "[3, 6, 3, 6, 35, 9]\n",
      "[3, 6, 3, 6, 35, 9]\n",
      "[3, 3, 6, 6, 9, 35]\n"
     ]
    },
    {
     "data": {
      "text/plain": [
       "'\\ndef heapsort(iterable):\\n    h = []\\n    for value in iterable:\\n        heapq.heappush(h, value)\\n    return [heapq.heappop(h) for i in range(len(h))]\\n\\nprint(heapsort(desordenada))\\n#ESte script si funciona, sacado de python.org\\n'"
      ]
     },
     "execution_count": 186,
     "metadata": {},
     "output_type": "execute_result"
    }
   ],
   "source": [
    "import heapq\n",
    "desordenada = [3,6,3,6,35,9]\n",
    "heapq.heapify(desordenada)\n",
    "print(desordenada)\n",
    "#heapq.heappush(desordenada, 99)\n",
    "#print(desordenada)\n",
    "\n",
    "\"\"\"Solucion usando el metodo sorted()\n",
    "X = sorted(desordenada)\n",
    "print (X)\n",
    "\n",
    "heapq.heappop(desordenada)\n",
    "heapq.heappop(desordenada)\n",
    "\n",
    "priorizada = heapq.heapify(desordenada)\n",
    "\n",
    "print(type(priorizada))\n",
    "\"\"\"\n",
    "\n",
    "\n",
    "def heapsort (lista_desordenada):\n",
    "    ordenada = [] \n",
    "    for item in lista_desordenada:\n",
    "        heapq.heappush(ordenada, item)\n",
    "    print (ordenada)\n",
    "    return [heapq.heappop(ordenada) for i in range(len(ordenada))]\n",
    "    #El heappop hace que el return guarde una lista de los minimos           \n",
    "print(heapsort(desordenada))\n",
    "     \n",
    "        \n",
    "\"\"\"\n",
    "def heapsort(iterable):\n",
    "    h = []\n",
    "    for value in iterable:\n",
    "        heapq.heappush(h, value)\n",
    "    return [heapq.heappop(h) for i in range(len(h))]\n",
    "\n",
    "print(heapsort(desordenada))\n",
    "#ESte script si funciona, sacado de python.org\n",
    "\"\"\"\n"
   ]
  },
  {
   "cell_type": "markdown",
   "id": "eeaf353a-035c-42ad-836c-484ed144a8ed",
   "metadata": {},
   "source": [
    "3. Escribe una función que, dada una lista desordenada de números, utilice una cola de prioridad para indicar cual es la mediana (es decir, el elemento central si la lista estuviera ordenada). Si la longitud de la lista de entrada es un número par, entonces el algoritmo puede devolver cualquiera de las 2 medianas válidas."
   ]
  },
  {
   "cell_type": "code",
   "execution_count": 189,
   "id": "a17ab01f-ac56-4807-b559-1ee8b5d916b2",
   "metadata": {},
   "outputs": [],
   "source": [
    "lista_mediana = [3, 6, 3, 6, 35, 9]\n"
   ]
  },
  {
   "cell_type": "code",
   "execution_count": null,
   "id": "7a0bcec9-3848-455f-9d47-3644d9ea5912",
   "metadata": {},
   "outputs": [],
   "source": []
  },
  {
   "cell_type": "code",
   "execution_count": null,
   "id": "3c62dfdf-7dd3-4f79-9124-689f06b038f5",
   "metadata": {},
   "outputs": [],
   "source": []
  },
  {
   "cell_type": "code",
   "execution_count": null,
   "id": "76f62286-19f6-4301-9b89-6fb34ee3648d",
   "metadata": {},
   "outputs": [],
   "source": []
  },
  {
   "cell_type": "code",
   "execution_count": null,
   "id": "d0788c51-2045-436f-a69b-ae81fa5bec43",
   "metadata": {},
   "outputs": [],
   "source": []
  },
  {
   "cell_type": "markdown",
   "id": "cbc26a05-d5c1-4c1a-baf9-271fd042b198",
   "metadata": {},
   "source": [
    "## Ejercicios OOP"
   ]
  },
  {
   "cell_type": "markdown",
   "id": "8504cb93-8d22-4a10-bcb1-52e64615c0f4",
   "metadata": {},
   "source": [
    "1. Implementa una jerarquía de clases que representen figuras (por ejemplo, cuadrados, círculos o triángulos). Posteriormente, implementa una función que muestre por pantalla, una a una, todas las áreas de una lista de figuras dada.\n"
   ]
  },
  {
   "cell_type": "code",
   "execution_count": 190,
   "id": "711c4cde-f2c8-428b-8d97-ec33d84b109e",
   "metadata": {},
   "outputs": [
    {
     "name": "stdout",
     "output_type": "stream",
     "text": [
      "Esta figura es un cuadrado y su área es 25\n"
     ]
    }
   ],
   "source": [
    "#Creo una clase Cuadrado con un método que calcule su área\n",
    "class Figura_Geometrica:\n",
    "    def __init__(self, lado):\n",
    "        self.lado = lado        \n",
    "        \n",
    "\n",
    "class Cuadrado(Figura_Geometrica):\n",
    "    def presentar(self):\n",
    "        #super().__init__(self, lado)\n",
    "        self.area = self.lado*self.lado\n",
    "        print (f'Esta figura es un cuadrado y su área es {self.area}')\n",
    "          \n",
    "class Triangulo(Figura_Geometrica):\n",
    "    def presentar(self):\n",
    "        super().__init__(self, lado)\n",
    "        self.area = lado*lado/2\n",
    "        print (f'Esta figura es un cuadrado y su área es {self.area}')\n",
    "\n",
    "class Circulo(Figura_Geometrica):\n",
    "    def presentar(self):\n",
    "        super().__init__(self, lado)\n",
    "        self.area = lado*3.1415\n",
    "        print (f'Esta figura es un cuadrado y su área es {self.area}')\n",
    "        \n",
    "        \n",
    "cuadrado1 = Cuadrado(5)\n",
    "#print (cuadrado1.tipo)\n",
    "cuadrado1.presentar()\n",
    "#print (cuadrado1.lado)\n",
    "#print (cuadrado1.area)\n",
    "\n",
    "#print(cuadrado1.area)\n",
    "#triangulo1 = Triangulo('triangulo', 10)\n",
    "#print(triangulo1.area)\n",
    "#triangulo1.presentar()\n",
    "#circulo1 = Circulo('circulo', 6)\n",
    "#print(circulo1.area)"
   ]
  },
  {
   "cell_type": "markdown",
   "id": "f1dc50e4-a1c8-432f-9e5e-5e81f9cf17f6",
   "metadata": {},
   "source": [
    "2. Implementa una clase que represente números racionales y almacene de manera explícita el numerador y el denominador. La clase debe permitir instanciar números racionales, con los cuales se podrá operar a través de los operadores convencionales: +, -, *, /. En caso de error (por ejemplo, división por cero) la clase generará un error apropiado.\n"
   ]
  },
  {
   "cell_type": "code",
   "execution_count": 103,
   "id": "16134c1c-0ea1-4b83-baff-7e160c613609",
   "metadata": {},
   "outputs": [
    {
     "name": "stdout",
     "output_type": "stream",
     "text": [
      "30/9\n",
      "10/20\n"
     ]
    }
   ],
   "source": [
    "class NumeroRacional:\n",
    "    def __init__(self, numerador, denominador):\n",
    "        self.numerador = numerador\n",
    "        self.denominador = denominador\n",
    "        if denominador == 0:\n",
    "            raise ZeroDivisionError(\"Estás definiendo un denominador 0, burro\")\n",
    " \n",
    "    def __add__(self, otro):\n",
    "        n = self.numerador * otro.denominador + self.denominador * otro.numerador\n",
    "        d = self.denominador + otro.denominador\n",
    "        return NumeroRacional(n, d)\n",
    "   \n",
    "    def __truediv__ (self, otro):\n",
    "        \"\"\"\n",
    "        if (otro.numerador or otro.denominador or self.denominador) == 0:\n",
    "            raise ZeroDivisionError(\"Estas diviendo por cero, burro\")\n",
    "        \"\"\"\n",
    "        n = self.numerador * otro.denominador\n",
    "        d = self.denominador * otro.numerador\n",
    "        return NumeroRacional(n, d)\n",
    "\n",
    "    def __str__(self):\n",
    "        return f'{self.numerador}/{self.denominador}'\n",
    "\"\"\"\n",
    "No creo las demás clases porque ya se demuestra el espíritu del ejercicio\n",
    "\"\"\"\n",
    "p1 = NumeroRacional(2,4)\n",
    "p2 = NumeroRacional(5,5)\n",
    "print (p1 + p2)\n",
    "print (p1 / p2)"
   ]
  },
  {
   "cell_type": "markdown",
   "id": "d791a5d0-0721-4a40-9a76-6a8e03006884",
   "metadata": {},
   "source": [
    "3. Implementa una clase *ColaPrioridad* que permita el almacenamiento de objetos ordenados por prioridad. A diferencia de los heaps vistos en el tema de estructuras de datos, esta cola de prioridad tiene la peculiaridad de que mantiene un rango de prioridades (numéricas de tipo entero) válidas. Es decir, al instanciar objetos de la clase *ColaPrioridad*, se debe especificar una prioridad máxima *N*, y ninguna prioridad fuera del rango *[0, N-1]* será válida. Podéis asumir que *N* siempre será un número relativamente pequeño, y que este rango no puede modificarse una vez el objeto de tipo *ColaPrioridad* ha sido creado. Teniendo esto en cuenta, la clase *ColaPrioridad* permitirá:\n",
    "\n",
    "   * Insertar un objeto con una prioridad dada. Ejemplo: inserción del objeto *'a'* con prioridad 3.\n",
    "   * Extraer el objeto más prioritario dada una prioridad concreta. Si existe más de un objeto con la misma prioridad, el orden de extración será en base al orden de inserción (FIFO - first in, first out). Es decir, para cada posible prioridad, se debe mantener una cola de objetos.\n",
    "   * Extraer el objeto de mayor prioridad en toda la cola de prioridad. En caso de empate (es decir, si más de un objeto tiene la prioridad mayor), el orden de extración será en base al orden de inserción (FIFO - first in, first out).\n",
    "   * Funcionalidades extra.\n",
    "      * En este ejercicio, podéis añadir a la clase *ColaPrioridad* más funcionalidades de vuestra elección. Ejemplo: un método para vaciar la cola.\n",
    "      * Podéis también definir vuestras propias excepciones, heredando de la clase *Exception* proporcionada por Python. Ejemplo: podéis implementar la clase *ExcepcionPrioridadFueraDeRango* y lanzar este tipo de error siempre que se intente insertar un objeto con una prioridad que quede fuera del rango válido.\n"
   ]
  },
  {
   "cell_type": "code",
   "execution_count": null,
   "id": "3af61341-1f83-4ee0-950f-46be7195b885",
   "metadata": {},
   "outputs": [],
   "source": []
  },
  {
   "cell_type": "code",
   "execution_count": 105,
   "id": "201f254e-806d-40c8-831b-3e8dad8b3c00",
   "metadata": {},
   "outputs": [],
   "source": [
    "#Ejercicio 3\n",
    "from collections import defaultdict\n",
    "\n",
    "class ColaPrioridad:\n",
    "    class ExcepcionPrioridadFueraDeRango(Exception):\n",
    "        pass\n",
    "    \n",
    "    def __init__(self, max_prioridad):\n",
    "        self.colas = defaultdict(list)\n",
    "        self.max_prioridad = max_prioridad\n",
    "    \n",
    "    def insertar(self, objeto, prioridad):\n",
    "        if not 0 <= prioridad < self.max_prioridad:\n",
    "            raise ColaPrioridad.ExcepcionPrioridadFueraDeRango\n",
    "        self.colas[prioridad].append(objeto)\n",
    "    \n",
    "    def extraer(self, prioridad):\n",
    "        if not 0 <= prioridad < self.max_prioridad:\n",
    "            raise ColaPrioridad.ExcepcionPrioridadFueraDeRango\n",
    "        return self.colas[prioridad].pop(0)\n",
    "    \n",
    "    def extraer_mayor_prioridad(self):\n",
    "        for prioridad in range(self.max_prioridad - 1, -1, -1):\n",
    "            if self.colas[prioridad]:\n",
    "                return self.colas[prioridad].pop(0)\n",
    "        return None\n"
   ]
  }
 ],
 "metadata": {
  "kernelspec": {
   "display_name": "Python 3 (ipykernel)",
   "language": "python",
   "name": "python3"
  },
  "language_info": {
   "codemirror_mode": {
    "name": "ipython",
    "version": 3
   },
   "file_extension": ".py",
   "mimetype": "text/x-python",
   "name": "python",
   "nbconvert_exporter": "python",
   "pygments_lexer": "ipython3",
   "version": "3.11.0"
  }
 },
 "nbformat": 4,
 "nbformat_minor": 5
}
