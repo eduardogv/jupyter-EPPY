{
 "cells": [
  {
   "cell_type": "markdown",
   "id": "317e1541-7f6d-4dc9-b882-cdd6e8e0b5dc",
   "metadata": {},
   "source": [
    "# Ejercicios Estructuras de control"
   ]
  },
  {
   "cell_type": "markdown",
   "id": "6f477fe4-6f1a-418d-af98-f705af7d2b65",
   "metadata": {},
   "source": [
    "1. Escribe un programa que calcule la suma de todos los elementos de una lista dada. La lista sólo puede contener elementos numéricos."
   ]
  },
  {
   "cell_type": "code",
   "execution_count": 9,
   "id": "aca93884-e134-40a3-a7a4-4382c155f26b",
   "metadata": {},
   "outputs": [
    {
     "name": "stdout",
     "output_type": "stream",
     "text": [
      "20\n"
     ]
    }
   ],
   "source": [
    "numeros = [1,5,9,2,3] \n",
    "suma = 0\n",
    "for i in numeros:\n",
    "    suma = suma + i\n",
    "    #print (i)\n",
    "print (suma)"
   ]
  },
  {
   "cell_type": "markdown",
   "id": "b595fb2e-b2ca-46fa-b7e9-5aef2a9f8aac",
   "metadata": {},
   "source": [
    "2. Dada una lista con elementos duplicados, escribir un programa que muestre una nueva lista con el mismo contenido que la primera pero sin elementos duplicados. Para este ejercicio, no puedes hacer uso de objetos de tipo 'Set'."
   ]
  },
  {
   "cell_type": "code",
   "execution_count": 11,
   "id": "f4777f8a-2559-4c59-b767-fb63dda14c6c",
   "metadata": {},
   "outputs": [
    {
     "name": "stdout",
     "output_type": "stream",
     "text": [
      "['a', 'b', 'c', 'd']\n"
     ]
    }
   ],
   "source": [
    "lista = ['a', 'b', 'c', 'c' ,'d', 'd']\n",
    "lista2 = []\n",
    "for letra in lista:\n",
    "    if letra not in lista2:\n",
    "        lista2.append(letra)\n",
    "print (lista2)"
   ]
  },
  {
   "cell_type": "markdown",
   "id": "be1200df-a048-48d0-b7dd-ac111416a562",
   "metadata": {},
   "source": [
    "3. Escribe un programa que construya un diccionario que contenga un número (entre 1 y n) de elementos de esta forma: (x, x*x). Ejemplo: para n = 5, el diccionario resultante sería {1: 1, 2: 4, 3: 9, 4: 16, 5: 25}"
   ]
  },
  {
   "cell_type": "code",
   "execution_count": 12,
   "id": "96db1188-ec27-43a2-8884-b7afeb0e12b3",
   "metadata": {},
   "outputs": [
    {
     "name": "stdout",
     "output_type": "stream",
     "text": [
      "{0: 0, 1: 1, 2: 4, 3: 9, 4: 16, 5: 25, 6: 36}\n"
     ]
    }
   ],
   "source": [
    "dict1 = {}\n",
    "n = 7 \n",
    "keys = []\n",
    "for i in range(n): #0,1,2,3\n",
    "    dict1[i] = i*i #puedes usar o no str en el indice\n",
    "\n",
    "print (dict1)"
   ]
  },
  {
   "cell_type": "markdown",
   "id": "2a9de9f5-8ff6-4717-8d66-810fdbde845b",
   "metadata": {},
   "source": [
    "4. Escribe un programa que, dada una lista de palabras, compruebe si alguna empieza por 'a' y tiene más de 9 caracteres. Si dicha palabra existe, el programa deberá terminar en el momento exacto de encontrarla. El programa también debe mostrar un mensaje apropiado por pantalla que indique el éxito o el fracaso de la búsqueda. En caso de éxito, también se mostrará por pantalla la palabra encontrada.\n",
    "\n"
   ]
  },
  {
   "cell_type": "code",
   "execution_count": 21,
   "id": "f100fa98-e62e-40a5-9029-248da6dd04fa",
   "metadata": {},
   "outputs": [
    {
     "name": "stdout",
     "output_type": "stream",
     "text": [
      "ano empieza con A\n"
     ]
    }
   ],
   "source": [
    "palabras = ['hola', 'peeeeeeeene', 'chau', 'ano']\n",
    "\n",
    "for palabra in palabras: #itera sobre las tres palabras\n",
    "    if palabra[0] == 'a': #compara la primera letra de palabra\n",
    "        print (palabra , \"empieza con A\")\n",
    "        break"
   ]
  },
  {
   "cell_type": "markdown",
   "id": "a61be681-63a9-4746-b5bb-562baf666863",
   "metadata": {},
   "source": [
    "5. Dada una lista L de números positivos, escribir un programa que muestre otra lista (ordenada) que contenga todo índice i que cumpla la siguiente condición: L[i] es múltiplo de 3. Por ejemplo, dada la lista L = [3,5,13,12,1,9] el programa mostrará la lista [0,3,5] dado que L[0], L[3] y L[5] son, respectivamente, 3, 12 y 9, que son los únicos múltiplos de 3 que hay en L.\n",
    "\n"
   ]
  },
  {
   "cell_type": "code",
   "execution_count": 60,
   "id": "ea270d27-0897-4d69-be7f-4a0cc4f0c9d8",
   "metadata": {},
   "outputs": [
    {
     "name": "stdout",
     "output_type": "stream",
     "text": [
      "[3, 12, 9]\n"
     ]
    }
   ],
   "source": [
    "L = [3,5,13,12,1,9]\n",
    "multiplos = []\n",
    "\n",
    "for i in L: #itera sobre elementos de L\n",
    "   #print(i%3)\n",
    "    if i%3 == 0:\n",
    "        multiplos.append(i)\n",
    "print(multiplos)"
   ]
  },
  {
   "cell_type": "markdown",
   "id": "ef34dd0d-3b47-41d3-a2e0-a5c8a3f4be7e",
   "metadata": {},
   "source": [
    "6. Dado un diccionario cuyos elementos son pares de tipo string y numérico (es decir, las claves son de tipo 'str' y los valores son de tipo 'int' o 'float'), escribe un programa que muestre por pantalla la clave cuyo valor asociado representa el valor númerico más alto de todo el diccionario. Por ejemplo, para el diccionario {'a': 4.3, 'b': 1, 'c': 7.8, 'd': -5} la respuesta sería 'c', dado que 7.8 es el valor más alto de los números 4.3, 1, 7.8 y -5.\n",
    "\n"
   ]
  },
  {
   "cell_type": "code",
   "execution_count": 88,
   "id": "6240785b-2084-4361-ab65-3bc7a8b8fb71",
   "metadata": {},
   "outputs": [
    {
     "name": "stdout",
     "output_type": "stream",
     "text": [
      "[4.3, 1, 7.8, -5]\n",
      "4.3\n",
      "1\n",
      "7.8\n",
      "-5\n",
      "7.8\n"
     ]
    }
   ],
   "source": [
    "dict1 = {'a': 4.3, 'b': 1, 'c': 7.8, 'd': -5}\n",
    "valores = []\n",
    "for indice in dict1:\n",
    "    valores.append(dict1[indice])\n",
    "print (valores)\n",
    "\n",
    "high = valores[0] # se hace uso de una variable intermedia para comparar\n",
    "for valor in valores:\n",
    "    print (valor)\n",
    "    if valor > high:\n",
    "        high =  valor\n",
    "print(high)\n",
    "\n",
    "# tambien se puede lograr con print(max(valores))      \n"
   ]
  },
  {
   "cell_type": "markdown",
   "id": "523fb66a-d8e8-481f-9d5b-105ea9b6ec0b",
   "metadata": {},
   "source": [
    "7. Dada la lista a = [2, 4, 6, 8] y la lista b = [7, 11, 15, 22], escribe un programa que itere las listas a y b y multiplique cada elemento de a que sea mayor que 5 por cada elemento de b que sea menor que 14. El programa debe mostrar los resultados por pantalla."
   ]
  },
  {
   "cell_type": "code",
   "execution_count": 94,
   "id": "7189ce90-dfd8-4ce6-882e-b35de4a320e0",
   "metadata": {},
   "outputs": [
    {
     "name": "stdout",
     "output_type": "stream",
     "text": [
      "[6, 8]\n",
      "[7, 11]\n",
      "[42, 66, 56, 88]\n"
     ]
    }
   ],
   "source": [
    "a = [2, 4, 6, 8]\n",
    "b = [7, 11, 15, 22]\n",
    "a_5 = []\n",
    "b_14 = []\n",
    "multiplicacion =[]\n",
    "\n",
    "for indice in a:\n",
    "    if indice > 5:\n",
    "        for indice2 in b:\n",
    "            if indice2 < 14:\n",
    "                multiplicacion.append(indice2*indice)\n",
    "print(multiplicacion)          \n"
   ]
  }
 ],
 "metadata": {
  "kernelspec": {
   "display_name": "Python 3 (ipykernel)",
   "language": "python",
   "name": "python3"
  },
  "language_info": {
   "codemirror_mode": {
    "name": "ipython",
    "version": 3
   },
   "file_extension": ".py",
   "mimetype": "text/x-python",
   "name": "python",
   "nbconvert_exporter": "python",
   "pygments_lexer": "ipython3",
   "version": "3.11.0"
  }
 },
 "nbformat": 4,
 "nbformat_minor": 5
}
