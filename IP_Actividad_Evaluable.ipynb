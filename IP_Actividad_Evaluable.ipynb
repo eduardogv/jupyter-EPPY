{
 "cells": [
  {
   "cell_type": "markdown",
   "id": "pacific-sharp",
   "metadata": {},
   "source": [
    "<img src=\"img/viu_logo.png\" width=\"200\"><img src=\"img/python_logo.png\" width=\"250\"> *Mario Cervera*"
   ]
  },
  {
   "cell_type": "markdown",
   "id": "canadian-convenience",
   "metadata": {},
   "source": [
    "# Introducción a la Programación - Actividad Evaluable"
   ]
  },
  {
   "cell_type": "markdown",
   "id": "brave-lodging",
   "metadata": {},
   "source": [
    "**Ejercicio 1.** (1 punto) Sin usar expresiones literales, ni sentencias condicionales, ni bucles: (1) Crear una lista ordenada que contenga los números del 1 al 20 (ambos inclusive). Posteriormente, (2) usando la lista creada en el apartado (1), mostrar por pantalla otra lista que contenga sólo los números múltiplos de 5, es decir: [5, 10, 15, 20]."
   ]
  },
  {
   "cell_type": "code",
   "execution_count": 12,
   "id": "a81df814-aa9f-4194-a862-67a1593be97d",
   "metadata": {},
   "outputs": [
    {
     "name": "stdout",
     "output_type": "stream",
     "text": [
      "[20, 15, 10, 5]\n"
     ]
    }
   ],
   "source": [
    "Lista1=list(range(1,21))\n",
    "Lista2=Lista1[::-5]\n",
    "Lista2\n",
    "\n",
    "print(Lista2)"
   ]
  },
  {
   "cell_type": "markdown",
   "id": "american-school",
   "metadata": {},
   "source": [
    "**Ejercicio 2.** (1 punto) Crear una función que reciba como parámetro (input) una lista con objetos de diferentes tipos. Por simplificar, para este problema se consideran únicamente números *enteros*, números *decimales* y *strings*. La función debe devolver como resultado (output) la suma de los números (enteros y decimales) e ignorar los strings. Ejemplo: el resultado para la lista ['b', 'c', 1, 3.4, 'a', 2] sería 6.4."
   ]
  },
  {
   "cell_type": "code",
   "execution_count": 10,
   "id": "fde86892-3128-4433-9d4b-edaaea003118",
   "metadata": {},
   "outputs": [
    {
     "name": "stdout",
     "output_type": "stream",
     "text": [
      "6.4\n"
     ]
    }
   ],
   "source": [
    "def Suma_de_numeros(Lista):\n",
    "    sum=0\n",
    "    for i in Lista:\n",
    "        if type(i)==int or type(i)==float:\n",
    "            sum+=i;\n",
    "    return sum \n",
    "\n",
    "print(Suma_de_numeros(['b', 'c', 1, 3.4, 'a', 2]))"
   ]
  },
  {
   "cell_type": "markdown",
   "id": "amateur-creation",
   "metadata": {},
   "source": [
    "**Ejercicio 3.** (2 puntos) Escribir un programa (sin funciones) que compare dos diccionarios cualquiera y muestre *True* por pantalla si tienen algún elemento en común y *False* en caso contrario. Tener un elemento en común significa que existe un elemento (clave-valor) que está presente en ambos diccionarios. Por ejemplo, el programa mostrará *True* para los diccionarios a = {'a': 3, 'b': 4} y b = {'c': 1, 'a': 3} dado que ambos incluyen el elemento 'a': 3."
   ]
  },
  {
   "cell_type": "code",
   "execution_count": 86,
   "id": "6def2678-7668-43bc-b8dd-3706e5d86d9c",
   "metadata": {},
   "outputs": [
    {
     "name": "stdout",
     "output_type": "stream",
     "text": [
      "True\n"
     ]
    }
   ],
   "source": [
    "Diccionario1={'a': 3, 'b': 4, 'd':10}\n",
    "Diccionario2={'f': 1, 'm': 5, 'd':10, 'n':9}\n",
    "\n",
    "for i in Diccionario1:\n",
    "    if i in Diccionario2:\n",
    "        if Diccionario1[i]==Diccionario2[i]:\n",
    "            print (\"True\")\n",
    "            break\n",
    "else:\n",
    "    print (\"False\")"
   ]
  },
  {
   "cell_type": "code",
   "execution_count": 8,
   "id": "b1ad6ffb-fd13-45f4-a241-320f2e59d11b",
   "metadata": {},
   "outputs": [
    {
     "name": "stdout",
     "output_type": "stream",
     "text": [
      "True\n"
     ]
    }
   ],
   "source": [
    "Diccionario1={'a': 3, 'b': 4, 'd':10}\n",
    "Diccionario2={'f': 1, 'm': 5, 'd':10, 'n':9}\n",
    "\n",
    "for i in Diccionario1:\n",
    "    if i not in Diccionario2:\n",
    "        continue\n",
    "    if Diccionario1[i]==Diccionario2[i]:\n",
    "        print (\"True\")\n",
    "        break\n",
    "else:\n",
    "    print (\"False\")"
   ]
  },
  {
   "cell_type": "markdown",
   "id": "quality-antenna",
   "metadata": {},
   "source": [
    "**Ejercicio 4.** (2 puntos) Escribe una función que reciba como parámetros dos strings y compruebe si estos strings cumplen las siguientes propiedades: (1) ambos strings tienen los mismos caracteres y, además, (2) estos caracteres aparecen el mismo número de veces en ambos strings (es decir, si el primer string tiene 3 'a', por ejemplo, el segundo string también tendrá 3 'a', aunque éstas pueden aparecer en posiciones diferentes). Para resolver el problema, **no** puedes importar ningún módulo de Python (como, por ejemplo, *collections*) ni usar funciones de ordenación (como *sort*).\n",
    "\n",
    "   * Ejemplos para los que la función devolverá *False*:\n",
    "       * 'hola' y 'adios'.\n",
    "       * 'java' y 'javascript'.\n",
    "       * 'maria' y 'mariam'.\n",
    "       * 'aab' y 'abb'.\n",
    "\n",
    "\n",
    "   * Ejemplos para los que la función devolverá *True*:\n",
    "       * 'python' y 'python'\n",
    "       * 'listen' y 'silent'\n",
    "       * 'aabbcc' y 'abcabc'"
   ]
  },
  {
   "cell_type": "code",
   "execution_count": 13,
   "id": "49498050-7d91-4fec-a9fb-e1daa6483645",
   "metadata": {},
   "outputs": [
    {
     "name": "stdout",
     "output_type": "stream",
     "text": [
      "False\n",
      "False\n",
      "False\n",
      "False\n",
      "True\n",
      "True\n",
      "True\n"
     ]
    }
   ],
   "source": [
    "def Frecuencia_de_Caracteres(palabra):\n",
    "    frecuencia={}\n",
    "    for i in palabra:\n",
    "        if i in frecuencia:\n",
    "            frecuencia[i]+=1\n",
    "        else:\n",
    "            frecuencia[i]=1\n",
    "    return frecuencia\n",
    "\n",
    "def Comparador_de_Caracteres (palabra1,palabra2):\n",
    "    frecuencia1= Frecuencia_de_Caracteres(palabra1)\n",
    "    frecuencia2= Frecuencia_de_Caracteres(palabra2)\n",
    "    \n",
    "    return frecuencia1==frecuencia2\n",
    "\n",
    "print(Comparador_de_Caracteres ('hola','adioss'))\n",
    "print(Comparador_de_Caracteres ('java','javascript'))\n",
    "print(Comparador_de_Caracteres ('maria','mariam'))\n",
    "print(Comparador_de_Caracteres ('aab','abb'))\n",
    "print(Comparador_de_Caracteres ('python','python'))\n",
    "print(Comparador_de_Caracteres ('listen','silent'))\n",
    "print(Comparador_de_Caracteres ('aabbcc','abcabc'))"
   ]
  },
  {
   "cell_type": "markdown",
   "id": "enhanced-liver",
   "metadata": {},
   "source": [
    "**Ejercicio 5.** (2 puntos) En \"*./actividades/res/ciudades.csv*\" tenéis un fichero CSV con información acerca de un conjunto de ciudades: nombre de la ciudad, país al que pertenece y número de habitantes. Escribir un programa que acceda al fichero y obtenga:\n",
    "\n",
    "* Una *lista* con los nombres de las ciudades españolas que tienen más de 300.000 habitantes.\n",
    "* El *número total* de ciudades francesas.\n",
    "\n",
    "El programa debe mostrar la lista y el número por pantalla."
   ]
  },
  {
   "cell_type": "code",
   "execution_count": 2,
   "id": "87f63434-9668-4738-b5e0-36ee4bf8a949",
   "metadata": {
    "tags": []
   },
   "outputs": [
    {
     "name": "stdout",
     "output_type": "stream",
     "text": [
      "['Nairobi', 'Valencia', 'Berlin', 'Marsella', 'Bilbao', 'Lyon', 'Milan', 'Madrid', 'Sevilla', 'Oslo', 'Medellin', 'Nantes', 'Gotemburgo', 'Barcelona', 'Pekin', 'Montevideo']\n",
      "3\n"
     ]
    }
   ],
   "source": [
    "import csv\n",
    "\n",
    "def Criterios_de_Seleccion (linea):\n",
    "    global Ciudades_Francesas\n",
    "    if int(linea[2])>=300000:\n",
    "                Ciudades_Españolas.append(linea[0])\n",
    "    if linea[1]=='Francia':\n",
    "                Ciudades_Francesas=Ciudades_Francesas+1 \n",
    "            \n",
    "with open(\"res/ciudades.csv\") as fichero: \n",
    "    data_reader = csv.reader(fichero, delimiter='|')\n",
    "    Ciudades_Españolas=[]\n",
    "    Ciudades_Francesas=0\n",
    "    contador_de_linea=0\n",
    "    for linea in data_reader:\n",
    "        if contador_de_linea>0:\n",
    "            Criterios_de_Seleccion(linea)\n",
    "        contador_de_linea+=1\n",
    "    print(Ciudades_Españolas)\n",
    "    print(Ciudades_Francesas)\n",
    "\n"
   ]
  },
  {
   "cell_type": "markdown",
   "id": "entertaining-ideal",
   "metadata": {},
   "source": [
    "**Ejercicio 6.** (2 puntos) Escribe una *list comprehension* que obtenga una lista que contenga todos los números impares del 1 al 30 (ambos inclusive). Aquellos que sean múltiplos de 5, serán marcados con una 'x'. Es decir, el resultado debe ser: [1, 3, '5x', 7, 9, 11, 13, '15x', 17, 19, 21, 23, '25x', 27, 29]"
   ]
  },
  {
   "cell_type": "code",
   "execution_count": 10,
   "id": "9f843c00-8e85-4de4-8888-7993ad878279",
   "metadata": {},
   "outputs": [
    {
     "data": {
      "text/plain": [
       "[1, 3, '5x', 7, 9, 11, 13, '15x', 17, 19, 21, 23, '25x', 27, 29]"
      ]
     },
     "execution_count": 10,
     "metadata": {},
     "output_type": "execute_result"
    }
   ],
   "source": [
    "[x if x%5!=0 else str(x)+\"x\" for x in range(1,31) if x%2!=0 ]"
   ]
  }
 ],
 "metadata": {
  "kernelspec": {
   "display_name": "Python 3 (ipykernel)",
   "language": "python",
   "name": "python3"
  },
  "language_info": {
   "codemirror_mode": {
    "name": "ipython",
    "version": 3
   },
   "file_extension": ".py",
   "mimetype": "text/x-python",
   "name": "python",
   "nbconvert_exporter": "python",
   "pygments_lexer": "ipython3",
   "version": "3.7.3"
  }
 },
 "nbformat": 4,
 "nbformat_minor": 5
}
