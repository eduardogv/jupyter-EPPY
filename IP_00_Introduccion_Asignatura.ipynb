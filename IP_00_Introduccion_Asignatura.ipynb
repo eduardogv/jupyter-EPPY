{
 "cells": [
  {
   "cell_type": "markdown",
   "id": "peaceful-commonwealth",
   "metadata": {},
   "source": [
    "<img src=\"img/viu_logo.png\" width=\"200\"><img src=\"img/python_logo.png\" width=\"250\"> *Mario Cervera*"
   ]
  },
  {
   "cell_type": "markdown",
   "id": "passive-tobago",
   "metadata": {},
   "source": [
    "# Introducción asignatura"
   ]
  },
  {
   "cell_type": "markdown",
   "id": "careful-negative",
   "metadata": {},
   "source": [
    "## Presentación"
   ]
  },
  {
   "cell_type": "markdown",
   "id": "egyptian-uniform",
   "metadata": {},
   "source": [
    "Profesor: Mario Cervera.\n",
    "\n",
    "* Doctor en informática por la UPV (2015).\n",
    "* Ingeniero Software (15 años experiencia).\n",
    "   * Java, Kotlin, Python y C++.\n",
    "   * Desarrollo web, aplicaciones escritorio y aplicaciones real-time.\n",
    "   * Mejora de calidad a través de buenas prácticas de Ingeniería Software (diseño, testing, etc.).\n",
    "* Email: mario.cervera@campusviu.es\n",
    "* Discord: https://discord.gg/wqB9Zufx\n",
    "* Twitter: @macerub"
   ]
  },
  {
   "cell_type": "markdown",
   "id": "expected-advice",
   "metadata": {},
   "source": [
    "## Objetivos"
   ]
  },
  {
   "cell_type": "markdown",
   "id": "beginning-surfing",
   "metadata": {},
   "source": [
    "* Introducir al estudiante en el mundo de la programación, y más concretamente en la programación en Python.\n",
    "    * No se asume ningún conocimiento previo, pero iremos rápido. Es importante no descolgarse.\n",
    "* Fundamentos teórico-prácticos para desarrollar programas en Python.\n",
    "    * Principalmente enfoque práctico.\n",
    "* Aprendizaje del paradigma de Programación Orientada a Objetos (OOP).\n",
    "* Análisis y diseño de algoritmos. Estructuras de datos avanzadas.\n",
    "* Adopción de buenas prácticas de Ingeniería Software: diseño software, testing automatizado, código limpio."
   ]
  },
  {
   "cell_type": "markdown",
   "id": "welsh-journalist",
   "metadata": {},
   "source": [
    "## Temario"
   ]
  },
  {
   "cell_type": "markdown",
   "id": "computational-formation",
   "metadata": {},
   "source": [
    "1. Introducción a Python.\n",
    "2. Intérprete de Python.\n",
    "3. Comentarios.\n",
    "4. Literales, variables y tipos básicos.\n",
    "5. Tipos de datos compuestos.\n",
    "6. Estructuras de control.\n",
    "7. Excepciones.\n",
    "8. Funciones.\n",
    "9. Acceso a ficheros.\n",
    "10. Docstrings.\n",
    "11. Estructuras de datos avanzadas.\n",
    "12. Algoritmos.\n",
    "13. Programación orientada a objetos.\n",
    "14. Buenas prácticas de programación.\n",
    "15. Testing de software."
   ]
  },
  {
   "cell_type": "markdown",
   "id": "composite-interference",
   "metadata": {},
   "source": [
    "## Metodología"
   ]
  },
  {
   "cell_type": "markdown",
   "id": "organizational-chester",
   "metadata": {},
   "source": [
    "* Clase expositiva (15 horas teoría + 15 horas práctica).\n",
    "    * Problemas en casi todas las unidades temáticas.\n",
    "* Trabajo autónomo (110 horas).\n",
    "* Tutorías online (10 horas).\n",
    "\n",
    "> Total: 150 horas."
   ]
  },
  {
   "cell_type": "markdown",
   "id": "posted-atlas",
   "metadata": {},
   "source": [
    "## Sistema de evaluación"
   ]
  },
  {
   "cell_type": "markdown",
   "id": "assured-fancy",
   "metadata": {},
   "source": [
    "* No hay examen.\n",
    "\n",
    "* Ejercicios evaluables.\n",
    "\n",
    "  * Portafolio - 40%\n",
    "  * Ejercicio final - 60%\n",
    "\n",
    "> *Portafolio*: se compone de un único entregable que engloba varios ejercicios cortos e individuales. El portafolio deberá ser entregado durante el transcurso de la asignatura, en una fecha que se establecerá en base al ritmo seguido en las clases. Los ejercicios a entregar se pondrán a disposición del alumno tan pronto como se haya visto en clase el material necesario para resolverlos.\n",
    "\n",
    "> *Ejercicio final*: un pequeño proyecto de desarrollo, donde el alumno deberá aplicar los conocimientos adquiridos durante toda la asignatura. Será de un nivel de complejidad un poco superior al del portafolio. Este proyecto deberá ser entregado tras la finalización de las clases, en la fecha preestablecida de primera (o segunda) convocatoria.\n",
    "\n",
    "\n",
    "* Dos convocatorias:\n",
    "   * Al terminar la asignatura.\n",
    "   * Al terminar el curso (4 asignaturas).\n",
    "\n",
    "\n",
    "* Todas las actividades (tanto del portfolio como el ejercicio final) deben estar aprobadas."
   ]
  },
  {
   "cell_type": "markdown",
   "id": "herbal-thriller",
   "metadata": {},
   "source": [
    "| Nota | Evaluación |\n",
    "|:---------|:-----|\n",
    "| x < 5  | Suspendido |\n",
    "| 5 <= x < 7 | Aprobado |\n",
    "| 7 <= x < 9 | Notable |\n",
    "| 9 <= x | Sobresaliente |"
   ]
  },
  {
   "cell_type": "markdown",
   "id": "accredited-throw",
   "metadata": {},
   "source": [
    "* Soluciones sencillas a los ejercicios servirán para aprobar.\n",
    "\n",
    "* Una nota superior a 5 requerirá un esfuerzo adicional."
   ]
  },
  {
   "cell_type": "markdown",
   "id": "hired-shock",
   "metadata": {},
   "source": [
    "## Apuntes asignatura"
   ]
  },
  {
   "cell_type": "markdown",
   "id": "occupational-brighton",
   "metadata": {},
   "source": [
    "* Apuntes de clase: disponibles en la carpeta \"01_EPPY\" del Google Drive compartido por el director del curso.\n",
    "\n",
    "   * https://drive.google.com/drive/folders/1j-MhEm2e1k-wEYHyjOUxxlJXAzOHHSpJ?usp=sharing\n",
    "\n",
    "\n",
    "* Material complementario en la sección \"*Recursos y materiales > 01. Materiales docentes*\" del aula virtual."
   ]
  },
  {
   "cell_type": "markdown",
   "id": "leading-nowhere",
   "metadata": {},
   "source": [
    "#### Software a utilizar "
   ]
  },
  {
   "cell_type": "markdown",
   "id": "smooth-provision",
   "metadata": {
    "tags": []
   },
   "source": [
    "**Jupyter-lab** o **Jupyter-notebook**.\n",
    "\n",
    "\n",
    "  * Permite intercalar el código con las explicaciones necesarias.\n",
    "  * Markdown/HTML + codigo en vivo.\n",
    "  * Markdown = https://www.markdownguide.org/\n",
    "  * En la terminal: *jupyter notebook* o *jupyter-lab*.\n",
    "  * Archivos _.ipynb_\n",
    "  * Documentación https://jupyter.readthedocs.io/en/latest/"
   ]
  },
  {
   "cell_type": "markdown",
   "id": "nominated-demographic",
   "metadata": {},
   "source": [
    "## Sesiones"
   ]
  },
  {
   "cell_type": "markdown",
   "id": "fresh-titanium",
   "metadata": {},
   "source": [
    "### Horario 19:00 a 21:00 CEST\n",
    "\n",
    "* 24-10-2022 - VideoConferencia 01\n",
    "* 25-10-2022 - VideoConferencia 02\n",
    "* 26-10-2022 - VideoConferencia 03\n",
    "* 31-10-2022 - VideoConferencia 04\n",
    "* 02-11-2022 - VideoConferencia 05\n",
    "* 07-11-2022 - VideoConferencia 06\n",
    "* 08-11-2022 - VideoConferencia 07\n",
    "* 09-11-2022 - VideoConferencia 08\n",
    "* 14-11-2022 - VideoConferencia 09\n",
    "* 15-11-2022 - VideoConferencia 10\n",
    "* 16-11-2022 - VideoConferencia 11\n",
    "* 21-11-2022 - VideoConferencia 12\n",
    "* 22-11-2022 - VideoConferencia 13\n",
    "* 23-11-2022 - VideoConferencia 14\n",
    "* 28-11-2022 - VideoConferencia 15\n",
    "\n",
    "\n",
    "* 16-12-2022 - Fecha primera convocatoria\n",
    "* 18-04-2023 - Fecha segunda convocatoria"
   ]
  },
  {
   "cell_type": "markdown",
   "id": "minute-treasure",
   "metadata": {},
   "source": [
    "Si hay algún cambio inesperado, se notificará apropiadamente."
   ]
  },
  {
   "cell_type": "markdown",
   "id": "appropriate-british",
   "metadata": {},
   "source": [
    "## Durante las clases ..."
   ]
  },
  {
   "cell_type": "markdown",
   "id": "christian-beaver",
   "metadata": {},
   "source": [
    "* Las clases deben ser grabadas.\n",
    "\n",
    "   * Por favor, avisad si el profesor se olvida.\n",
    "\n",
    "\n",
    "* Uso de Jupyter notebooks.\n",
    "\n",
    "   * Los apuntes disponibles en Google Drive se irán actualizando para que el alumno siempre disponga del material las horas/días previos a la clase para que puedan seguir las clases con ellos y hacer sus propias pruebas con el código.\n",
    "\n",
    "\n",
    "* Necesasaria instalación Python y Jupyter-Lab."
   ]
  },
  {
   "cell_type": "markdown",
   "id": "maritime-teach",
   "metadata": {},
   "source": [
    "## Instalación Python y Jupyter-Lab\n",
    "\n",
    "* Guía de instalación (para Windows, Linux y macOS): https://realpython.com/installing-python/\n",
    "\n",
    "* [Python 3.10.x](https://www.python.org/downloads/)\n",
    "\n",
    "   * Instalación a través del fichero instalable. Sección \"How to Install From the Full Installer\" en la guía (Windows).\n",
    "\n",
    "   * No olvidéis marcar el checkbox con la opción de añadir Python a la variable de entorno PATH.\n",
    "   \n",
    "* [Jupyter-lab](https://jupyter.org/install)\n",
    "\n",
    "   * Instalación: *pip install jupyterlab*\n",
    "\n",
    "   * Abrir aplicación con navegador: *jupyter-lab*\n",
    "  "
   ]
  },
  {
   "cell_type": "markdown",
   "id": "tight-porcelain",
   "metadata": {},
   "source": [
    "## Entorno de desarrollo (IDE)"
   ]
  },
  {
   "cell_type": "markdown",
   "id": "solar-pollution",
   "metadata": {},
   "source": [
    "* Podéis programar en los propios notebooks de Jupyter, pero si queréis una herramienta más completa, podéis usar un IDE. \n",
    "\n",
    "* Mi recomendación:\n",
    "\n",
    "   * Visual Studio Code ([VSCode](https://code.visualstudio.com/)).\n",
    "\n",
    "\n",
    "* Podeis tanto ejecutar scripts de Python como abrir los Jupyter notebooks desde el propio IDE.\n",
    "\n",
    "* Necesario instalar extensiones:\n",
    "\n",
    "   * Python\n",
    "   \n",
    "   * Jupyter"
   ]
  }
 ],
 "metadata": {
  "kernelspec": {
   "display_name": "Python 3",
   "language": "python",
   "name": "python3"
  },
  "language_info": {
   "codemirror_mode": {
    "name": "ipython",
    "version": 3
   },
   "file_extension": ".py",
   "mimetype": "text/x-python",
   "name": "python",
   "nbconvert_exporter": "python",
   "pygments_lexer": "ipython3",
   "version": "3.9.2"
  }
 },
 "nbformat": 4,
 "nbformat_minor": 5
}
