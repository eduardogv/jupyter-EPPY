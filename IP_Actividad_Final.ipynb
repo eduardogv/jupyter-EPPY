{
 "cells": [
  {
   "cell_type": "markdown",
   "id": "final-comparison",
   "metadata": {},
   "source": [
    "<img src=\"img/viu_logo.png\" width=\"200\"><img src=\"img/python_logo.png\" width=\"250\"> *Mario Cervera*"
   ]
  },
  {
   "cell_type": "markdown",
   "id": "differential-valley",
   "metadata": {},
   "source": [
    "# Introducción a la Programación - Actividad Final"
   ]
  },
  {
   "cell_type": "markdown",
   "id": "handled-spanking",
   "metadata": {
    "tags": []
   },
   "source": [
    "El fichero *grafo.txt* define un grafo dirigido ponderado. Cada fila del fichero contiene tres items separados entre sí por un espacio. Estos tres items definen una arista y su peso. Por ejemplo, la fila \"a b 2\" define una arista *(a, b)*, cuyo peso es 2, y donde *a* y *b* son nodos del grafo. La arista tiene *a* como origen y *b* como destino."
   ]
  },
  {
   "cell_type": "markdown",
   "id": "sufficient-female",
   "metadata": {},
   "source": [
    "1.1. Crea una clase *Arista* que represente una arista del grafo, con su nodo origen, su nodo destino y su peso. La clase debe sobreescribir el operador que permite que las instancias de la clase puedan representarse apropiadamente en formato *string*. Añade documentación a la clase."
   ]
  },
  {
   "cell_type": "code",
   "execution_count": 1,
   "id": "1e0b6832-d83f-490d-9812-72135c4c9e2c",
   "metadata": {},
   "outputs": [
    {
     "name": "stdout",
     "output_type": "stream",
     "text": [
      " El nodo origen es :a, el nodo destino es:b, y su peso es:1\n"
     ]
    }
   ],
   "source": [
    "class Arista:\n",
    "    def __init__ (self, origen, destino, peso):\n",
    "        self.origen = origen\n",
    "        self.destino = destino\n",
    "        self.peso = peso\n",
    "    #Añadimos una sobrecarga de str para mostrar los valores de la instancia en formato string\n",
    "    def __str__(self):\n",
    "        #Modificamos str para que regrese los valores de la instancia en cada print\n",
    "        return f' El nodo origen es :{self.origen}, el nodo destino es:{self.destino}, y su peso es:{self.peso}'\n",
    "\n",
    "arista1 = Arista('a', 'b', 1)\n",
    "\n",
    "print (arista1)"
   ]
  },
  {
   "cell_type": "markdown",
   "id": "clear-infection",
   "metadata": {},
   "source": [
    "1.2. Crea una clase abstracta *Grafo* que represente un grafo, pero sin proporcionar detalles sobre su representación en memoria. Esta clase abstracta contendrá un constructor que recibirá un parámetro: la ruta a un fichero de texto, de donde la clase *Grafo* podrá extraer la definición del grafo. La clase, al ser abstracta, no puede crear el grafo, pero sí puede procesar el fichero y usar un método abstracto *anyadir_arista*. Añadir también a la clase *Grafo* otro método abstracto *contiene_arista* que permita comprobar la presencia de una arista en el grafo. Ambos métodos recibirán una *Arista* como parámetro. Añade documentación a la clase."
   ]
  },
  {
   "cell_type": "code",
   "execution_count": 2,
   "id": "262dda09-d53a-4762-9f81-1c5a1cbaa955",
   "metadata": {},
   "outputs": [],
   "source": [
    "from abc import ABC\n",
    "from abc import abstractmethod\n",
    "\n",
    "class Grafo(ABC):\n",
    "    #Recibe la ruta del fichero y lee las lineas para añadirlas \n",
    "    @abstractmethod\n",
    "    def __init__(self, ruta_fichero):\n",
    "        self.ruta_fichero = ruta_fichero\n",
    "        with open(self.ruta_fichero) as fichero:\n",
    "            for linea in fichero:\n",
    "                #Procesamos cada linea como objeto Arista\n",
    "                nodo_origen = linea.split()[0]\n",
    "                nodo_destino = linea.split()[1]\n",
    "                peso = linea.split()[2]                \n",
    "                arista = Arista(nodo_origen, nodo_destino, peso)\n",
    "                #pasamos la arista al método anyadir_arista\n",
    "                #print (arista)\n",
    "                self.anyadir_arista(arista) #(a, b, 1)\n",
    "               \n",
    "    @abstractmethod\n",
    "    def anyadir_arista(self,arista: Arista):\n",
    "        pass\n",
    "    \n",
    "    @abstractmethod\n",
    "    def contiene_arista(self, arista: Arista):\n",
    "        pass\n",
    "    \n"
   ]
  },
  {
   "cell_type": "markdown",
   "id": "native-width",
   "metadata": {
    "tags": []
   },
   "source": [
    "1.3. Crea una subclase *GrafoListasAdyacencia*. Esta clase implementará el método *anyadir_arista* de manera que se creen las listas de adyacencia de manera apropiada. La clase deberá también implementar el método *contiene_arista*. Añade documentación a la clase.\n",
    "\n",
    "Nota: observad que en las listas de adyacencia no debéis almacenar objetos de tipo *Arista*, ya que esto crearía duplicación innecesaria de información en memoria."
   ]
  },
  {
   "cell_type": "code",
   "execution_count": 8,
   "id": "7154f4f5-0350-46cd-89c8-a4494dafcbfe",
   "metadata": {},
   "outputs": [
    {
     "name": "stdout",
     "output_type": "stream",
     "text": [
      "{'a': [('b', '1'), ('c', '3')],\n",
      " 'b': [('e', '3')],\n",
      " 'c': [('a', '2'), ('d', '1')],\n",
      " 'd': [('a', '1'), ('e', '2'), ('f', '1')],\n",
      " 'e': [('c', '3'), ('f', '4')],\n",
      " 'f': [('g', '1')],\n",
      " 'g': [('b', '2')]}\n"
     ]
    }
   ],
   "source": [
    "class GrafoListasAdyacencia (Grafo):\n",
    "    def __init__(self, ruta_fichero):\n",
    "        self.grafo = {}\n",
    "        super().__init__(ruta_fichero)\n",
    "        #self.ruta_fichero = ruta_fichero\n",
    "        \n",
    "    def anyadir_arista(self, arista):\n",
    "        if arista.origen not in self.grafo:\n",
    "            self.grafo[arista.origen] = [(arista.destino, arista.peso)]\n",
    "        else:\n",
    "            self.grafo[arista.origen].append((arista.destino, arista.peso))\n",
    "        \n",
    "    def __str__ (self):\n",
    "        import pprint\n",
    "        return pprint.pformat(self.grafo)\n",
    "          \n",
    "    \n",
    "    \n",
    "    def contiene_arista():\n",
    "        pass\n",
    "\n",
    "print(GrafoListasAdyacencia('res/grafo.txt'))"
   ]
  },
  {
   "cell_type": "markdown",
   "id": "arabic-casino",
   "metadata": {},
   "source": [
    "1.4. Crea una subclase *GrafoMatrizAdyacencia*. Esta clase implementará el método *anyadir_arista* de manera que se cree la matriz de adyacencia de manera apropiada. Una matriz de adyacencia es una matriz cuadrada que indica, para cada par de nodos, si son adyacentes o no. Más formalmente, dado un grafo con nodos *U = { u<sub>1</sub>, u<sub>2</sub>, ..., u<sub>n</sub> }*, la matriz de adyacencia es una matriz *n x n* donde un elemento *A<sub>ij</sub>* de la matriz es *X* cuando el grafo posee una arista del nodo *u<sub>i</sub>* al nodo *u<sub>j</sub>* con peso *X*, y 0 cuando no existe tal arista o tiene peso 0.\n",
    "\n",
    "Nota: para este ejercicio, podéis asumir que se sabe de antemano (es decir, antes de procesar el fichero) que el grafo tiene 7 nodos: 'a', 'b', 'c', 'd', 'e', 'f' y 'g'."
   ]
  },
  {
   "cell_type": "code",
   "execution_count": 4,
   "id": "b7976131-6eb1-4331-9233-f283e1589995",
   "metadata": {},
   "outputs": [
    {
     "ename": "SyntaxError",
     "evalue": "EOF while scanning triple-quoted string literal (1611716518.py, line 55)",
     "output_type": "error",
     "traceback": [
      "\u001b[1;36m  File \u001b[1;32m\"C:\\Users\\USER\\AppData\\Local\\Temp\\ipykernel_11360\\1611716518.py\"\u001b[1;36m, line \u001b[1;32m55\u001b[0m\n\u001b[1;33m    #numero_de_nodos = len(grafito.keys())\u001b[0m\n\u001b[1;37m                                          \n^\u001b[0m\n\u001b[1;31mSyntaxError\u001b[0m\u001b[1;31m:\u001b[0m EOF while scanning triple-quoted string literal\n"
     ]
    }
   ],
   "source": [
    "\"\"\"\n",
    "import pprint\n",
    "class GrafoMatrizAdyacencia(Grafo):\n",
    "    def __init__(self, ruta_fichero):\n",
    "        self.grafo = []\n",
    "        super().__init__(ruta_fichero)\n",
    "    \n",
    "\n",
    "    def anyadir_arista(self, arista):\n",
    "        \n",
    "        #Representación como diccionario\n",
    "        if arista.origen not in self.grafo:\n",
    "            self.grafo[arista.origen] = [(arista.destino, arista.peso)]\n",
    "        else:\n",
    "            self.grafo[arista.origen].append((arista.destino, arista.peso))\n",
    "            \n",
    "    def conversion_matriz(self, arista):\n",
    "            \n",
    "        lista_nodos = list(self.grafo.keys())\n",
    "        #llenamos una matriz de puros ceros n x n\n",
    "        self.matriz_adyacencia = [[0 for _ in lista_nodos] for _ in lista_nodos]\n",
    "        \n",
    "        # Por último, recorremos cada nodo y su lista de adyacencias, y establecemos el peso de la arista en la matriz\n",
    "        for nodo in lista_nodos:\n",
    "            #primera iteracion: nodo = 'a' de la lista de nodos\n",
    "            for adyacencia, peso in self.grafo[nodo]:\n",
    "                # adyacencia, peso = [('b', '1'), ('e', '3')]\n",
    "                fila = lista_nodos.index(nodo)\n",
    "                # fila = nodos.index('b') ---> fila = 1\n",
    "                columna = lista_nodos.index(adyacencia)\n",
    "                # columna = nodos.index('e') ---> columna = 'e'\n",
    "                self.matriz_adyacencia[fila][columna] = peso\n",
    "                # matriz_adyacencia[1]['e'] = 3\n",
    "\n",
    "        # Imprimimos la matriz resultante\n",
    "        for fila in matriz_adyacencia:\n",
    "            print(fila)\n",
    "       \n",
    "        \n",
    "        \n",
    "    def __str__ (self):\n",
    "        #return vars(self.grafo)\n",
    "        \n",
    "        import pprint\n",
    "        return pprint.pformat(self.grafo)\n",
    "        \n",
    "          \n",
    "    def contiene_arista():\n",
    "        pass\n",
    "\n",
    "#print(GrafoMatrizAdyacencia('res/grafo.txt'))\n",
    "grafito = GrafoMatrizAdyacencia('res/grafo.txt')\n",
    "print(grafito)\n",
    "\n",
    "#numero_de_nodos = len(grafito.keys())\n",
    "\"\"\""
   ]
  },
  {
   "cell_type": "code",
   "execution_count": 4,
   "id": "71cdf9de-e5cd-41eb-875b-040b33b98aed",
   "metadata": {},
   "outputs": [
    {
     "name": "stdout",
     "output_type": "stream",
     "text": [
      "{'a': [('b', '1'), ('c', '3')], 'b': [('e', '3')], 'c': [('a', '2'), ('d', '1')], 'd': [('a', '1'), ('e', '2'), ('f', '1')], 'e': [('c', '3'), ('f', '4')], 'f': [('g', '1')], 'g': [('b', '2')]}\n"
     ]
    }
   ],
   "source": [
    "#Daniela:\n",
    "\n",
    "class GrafoMatrizAdyacencia(Grafo):\n",
    "    def __init__(self,ruta,nodos):\n",
    "        self.nodos = nodos\n",
    "        self.Matriz = [[0 for j in range(len(self.nodos))] for i in range(len(self.nodos))]\n",
    "        super().__init__(ruta)\n",
    "        \n",
    "    def anyadir_arista(self,arista:Arista):\n",
    "        '''Almacena una arista en un grafo de tipo matriz de adyacencia''' \n",
    "        if arista.nodo_origen in self.nodos and arista.nodo_destino in self.nodos:\n",
    "            for i in range(len(self.Matriz)):\n",
    "                for j in range(len(self.Matriz[i])):\n",
    "                    if i==self.nodos.index(arista.nodo_origen) and j==self.nodos.index(arista.nodo_destino):\n",
    "                        self.Matriz[i][j]=arista.peso\n",
    "        \n",
    "        #self.Matrizadyacencia=dict(zip(self.nodos,self.Matriz))                      \n",
    "        \n",
    "        #return self.Matrizadyacencia      \n",
    "            \n",
    "    def contiene_arista(self,arista:Arista):\n",
    "        '''Consulta pa existencia de una arista en un grafo de tipo lista de adyacencia''' \n",
    "        if self.Matrizadyacencia[arista.nodo_origen][self.nodos.index(arista.nodo_destino)]==arista.peso:\n",
    "            return True\n",
    "        return False\n",
    "        \n",
    "    def __str__(self):\n",
    "        return str(self.Matrizadyacencia)\n",
    "    \n",
    "print(GrafoListasAdyacencia('res/grafo.txt'))"
   ]
  },
  {
   "cell_type": "code",
   "execution_count": 13,
   "id": "b05e7d3d-61fb-4769-9da9-3a0a35ad83e3",
   "metadata": {},
   "outputs": [
    {
     "name": "stdout",
     "output_type": "stream",
     "text": [
      "{'a': [('b', '1'), ('c', '3')],\n",
      " 'b': [('e', '3')],\n",
      " 'c': [('a', '2'), ('d', '1')],\n",
      " 'd': [('a', '1'), ('e', '2'), ('f', '1')],\n",
      " 'e': [('c', '3'), ('f', '4')],\n",
      " 'f': [('g', '1')],\n",
      " 'g': [('b', '2')]}\n",
      "Lista de nodos:  ['a', 'b', 'c', 'd', 'e', 'f', 'g']\n",
      "[0, '1', '3', 0, 0, 0, 0]\n",
      "[0, 0, 0, 0, '3', 0, 0]\n",
      "['2', 0, 0, '1', 0, 0, 0]\n",
      "['1', 0, 0, 0, '2', '1', 0]\n",
      "[0, 0, '3', 0, 0, '4', 0]\n",
      "[0, 0, 0, 0, 0, 0, '1']\n",
      "[0, '2', 0, 0, 0, 0, 0]\n"
     ]
    }
   ],
   "source": [
    "#ChatGPT\n",
    "\n",
    "import pprint\n",
    "diccionario_ejemplo = {'a': [('b', '1'), ('c', '3')], 'b': [('e', '3')], 'c': [('a', '2'), ('d', '1')], 'd': [('a', '1'), ('e', '2'), ('f', '1')], 'e': [('c', '3'), ('f', '4')], 'f': [('g', '1')], 'g': [('b', '2')]}\n",
    "pprint.pprint(diccionario_ejemplo)\n",
    "#print (\"Para el key 'b' se tienen los valores: \", diccionario_ejemplo['b'])\n",
    "\n",
    "# Primero, obtenemos todos los nodos en el diccionario\n",
    "nodos = list(diccionario_ejemplo.keys())\n",
    "print (\"Lista de nodos: \", nodos)\n",
    "\n",
    "# Luego, inicializamos una matriz de ceros con el mismo número de filas y columnas que nodos\n",
    "matriz_adyacencia = [[0 for _ in nodos] for _ in nodos]\n",
    "#pprint.pprint (matriz_adyacencia)\n",
    "\n",
    "# Por último, recorremos cada nodo y su lista de adyacencias, y establecemos el peso de la arista en la matriz\n",
    "for nodo in nodos:\n",
    "    #primera iteracion: nodo = 'a' de la lista de nodos\n",
    "    for adyacencia, peso in diccionario_ejemplo[nodo]:\n",
    "        # adyacencia, peso = [('b', '1'), ('e', '3')]\n",
    "        fila = nodos.index(nodo)\n",
    "        # fila = nodos.index('b') ---> fila = 1\n",
    "        columna = nodos.index(adyacencia)\n",
    "        # columna = nodos.index('e') ---> columna = 'e'\n",
    "        matriz_adyacencia[fila][columna] = peso\n",
    "        # matriz_adyacencia[1]['e'] = 3\n",
    "\n",
    "# Imprimimos la matriz resultante\n",
    "for fila in matriz_adyacencia:\n",
    "    print(fila)\n",
    "\n"
   ]
  },
  {
   "cell_type": "code",
   "execution_count": null,
   "id": "89354a42-e8aa-4851-b1b7-8e7657e41a77",
   "metadata": {},
   "outputs": [],
   "source": [
    "#COMO CHUCHA SE CREA UNA MATRIZ EN 2D DE PUROS CEROS?\n",
    "#matriz_adyacencia = [[0 for _ in nodos] for _ in nodos]\n",
    "matriz_adyacencia = []\n",
    "for i in nodos:\n",
    "    for j in nodos:\n",
    "        matriz_adyacencia[int(j)][int(i)] = 0\n",
    "pprint.pprint (matriz_adyacencia)\n"
   ]
  },
  {
   "cell_type": "markdown",
   "id": "strange-blink",
   "metadata": {},
   "source": [
    "1.5. Crea una función que, dado un grafo y una arista, compruebe si la arista existe en el grafo y muestre un mensaje apropiado por pantalla en cualquier caso. Utiliza esta función para comprobar la existencia/ausencia de varias aristas en una instancia de un grafo basado en listas de adyacencia y también en un grafo basado en matriz de adyacencia. El resultado debería ser el mismo en ambos casos, ya que la existencia o ausencia de una arista en un grafo no depende de cómo el grafo está representado internamente."
   ]
  }
 ],
 "metadata": {
  "kernelspec": {
   "display_name": "Python 3 (ipykernel)",
   "language": "python",
   "name": "python3"
  },
  "language_info": {
   "codemirror_mode": {
    "name": "ipython",
    "version": 3
   },
   "file_extension": ".py",
   "mimetype": "text/x-python",
   "name": "python",
   "nbconvert_exporter": "python",
   "pygments_lexer": "ipython3",
   "version": "3.11.0"
  }
 },
 "nbformat": 4,
 "nbformat_minor": 5
}
